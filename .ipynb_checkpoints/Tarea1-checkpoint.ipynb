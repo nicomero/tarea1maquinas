{
 "cells": [
  {
   "cell_type": "markdown",
   "metadata": {},
   "source": [
    "# Tarea 1 de Aprendizaje de Maquinas\n",
    "## Nicolás Alarcón 201473522-7\n",
    "## Gabriel Valenzuela 201473505-7"
   ]
  },
  {
   "cell_type": "markdown",
   "metadata": {},
   "source": [
    "### Pregunta 1:"
   ]
  },
  {
   "cell_type": "markdown",
   "metadata": {},
   "source": [
    "#### 1.a)"
   ]
  },
  {
   "cell_type": "code",
   "execution_count": 1,
   "metadata": {
    "collapsed": false
   },
   "outputs": [
    {
     "data": {
      "text/html": [
       "<div>\n",
       "<table border=\"1\" class=\"dataframe\">\n",
       "  <thead>\n",
       "    <tr style=\"text-align: right;\">\n",
       "      <th></th>\n",
       "      <th>price</th>\n",
       "      <th>bedrooms</th>\n",
       "      <th>bathrooms</th>\n",
       "      <th>sqft_living</th>\n",
       "      <th>sqft_lot</th>\n",
       "      <th>floors</th>\n",
       "      <th>waterfront</th>\n",
       "      <th>view</th>\n",
       "      <th>condition</th>\n",
       "      <th>grade</th>\n",
       "      <th>sqft_above</th>\n",
       "      <th>sqft_basement</th>\n",
       "      <th>yr_built</th>\n",
       "      <th>yr_renovated</th>\n",
       "      <th>lat</th>\n",
       "      <th>long</th>\n",
       "      <th>sqft_living15</th>\n",
       "      <th>sqft_lot15</th>\n",
       "    </tr>\n",
       "  </thead>\n",
       "  <tbody>\n",
       "    <tr>\n",
       "      <th>0</th>\n",
       "      <td>221900.0</td>\n",
       "      <td>3</td>\n",
       "      <td>1.00</td>\n",
       "      <td>1180</td>\n",
       "      <td>5650</td>\n",
       "      <td>1.0</td>\n",
       "      <td>0</td>\n",
       "      <td>0</td>\n",
       "      <td>3</td>\n",
       "      <td>7</td>\n",
       "      <td>1180</td>\n",
       "      <td>0</td>\n",
       "      <td>1955</td>\n",
       "      <td>0</td>\n",
       "      <td>47.5112</td>\n",
       "      <td>-122.257</td>\n",
       "      <td>1340</td>\n",
       "      <td>5650</td>\n",
       "    </tr>\n",
       "    <tr>\n",
       "      <th>1</th>\n",
       "      <td>538000.0</td>\n",
       "      <td>3</td>\n",
       "      <td>2.25</td>\n",
       "      <td>2570</td>\n",
       "      <td>7242</td>\n",
       "      <td>2.0</td>\n",
       "      <td>0</td>\n",
       "      <td>0</td>\n",
       "      <td>3</td>\n",
       "      <td>7</td>\n",
       "      <td>2170</td>\n",
       "      <td>400</td>\n",
       "      <td>1951</td>\n",
       "      <td>1991</td>\n",
       "      <td>47.7210</td>\n",
       "      <td>-122.319</td>\n",
       "      <td>1690</td>\n",
       "      <td>7639</td>\n",
       "    </tr>\n",
       "    <tr>\n",
       "      <th>2</th>\n",
       "      <td>180000.0</td>\n",
       "      <td>2</td>\n",
       "      <td>1.00</td>\n",
       "      <td>770</td>\n",
       "      <td>10000</td>\n",
       "      <td>1.0</td>\n",
       "      <td>0</td>\n",
       "      <td>0</td>\n",
       "      <td>3</td>\n",
       "      <td>6</td>\n",
       "      <td>770</td>\n",
       "      <td>0</td>\n",
       "      <td>1933</td>\n",
       "      <td>0</td>\n",
       "      <td>47.7379</td>\n",
       "      <td>-122.233</td>\n",
       "      <td>2720</td>\n",
       "      <td>8062</td>\n",
       "    </tr>\n",
       "    <tr>\n",
       "      <th>3</th>\n",
       "      <td>604000.0</td>\n",
       "      <td>4</td>\n",
       "      <td>3.00</td>\n",
       "      <td>1960</td>\n",
       "      <td>5000</td>\n",
       "      <td>1.0</td>\n",
       "      <td>0</td>\n",
       "      <td>0</td>\n",
       "      <td>5</td>\n",
       "      <td>7</td>\n",
       "      <td>1050</td>\n",
       "      <td>910</td>\n",
       "      <td>1965</td>\n",
       "      <td>0</td>\n",
       "      <td>47.5208</td>\n",
       "      <td>-122.393</td>\n",
       "      <td>1360</td>\n",
       "      <td>5000</td>\n",
       "    </tr>\n",
       "    <tr>\n",
       "      <th>4</th>\n",
       "      <td>510000.0</td>\n",
       "      <td>3</td>\n",
       "      <td>2.00</td>\n",
       "      <td>1680</td>\n",
       "      <td>8080</td>\n",
       "      <td>1.0</td>\n",
       "      <td>0</td>\n",
       "      <td>0</td>\n",
       "      <td>3</td>\n",
       "      <td>8</td>\n",
       "      <td>1680</td>\n",
       "      <td>0</td>\n",
       "      <td>1987</td>\n",
       "      <td>0</td>\n",
       "      <td>47.6168</td>\n",
       "      <td>-122.045</td>\n",
       "      <td>1800</td>\n",
       "      <td>7503</td>\n",
       "    </tr>\n",
       "  </tbody>\n",
       "</table>\n",
       "</div>"
      ],
      "text/plain": [
       "      price  bedrooms  bathrooms  sqft_living  sqft_lot  floors  waterfront  \\\n",
       "0  221900.0         3       1.00         1180      5650     1.0           0   \n",
       "1  538000.0         3       2.25         2570      7242     2.0           0   \n",
       "2  180000.0         2       1.00          770     10000     1.0           0   \n",
       "3  604000.0         4       3.00         1960      5000     1.0           0   \n",
       "4  510000.0         3       2.00         1680      8080     1.0           0   \n",
       "\n",
       "   view  condition  grade  sqft_above  sqft_basement  yr_built  yr_renovated  \\\n",
       "0     0          3      7        1180              0      1955             0   \n",
       "1     0          3      7        2170            400      1951          1991   \n",
       "2     0          3      6         770              0      1933             0   \n",
       "3     0          5      7        1050            910      1965             0   \n",
       "4     0          3      8        1680              0      1987             0   \n",
       "\n",
       "       lat     long  sqft_living15  sqft_lot15  \n",
       "0  47.5112 -122.257           1340        5650  \n",
       "1  47.7210 -122.319           1690        7639  \n",
       "2  47.7379 -122.233           2720        8062  \n",
       "3  47.5208 -122.393           1360        5000  \n",
       "4  47.6168 -122.045           1800        7503  "
      ]
     },
     "execution_count": 1,
     "metadata": {},
     "output_type": "execute_result"
    }
   ],
   "source": [
    "import pandas as pd\n",
    "import numpy as np\n",
    "from IPython.display import display\n",
    "df = pd.read_csv(\"kc_house_data.csv\")\n",
    "df.drop(['id','date','zipcode',],axis=1,inplace=True)\n",
    "df.head()"
   ]
  },
  {
   "cell_type": "markdown",
   "metadata": {},
   "source": [
    "El objetivo de la linea 4 es que las columnas 'id', 'date' y 'zipcode' sean removidas de la tabla"
   ]
  },
  {
   "cell_type": "markdown",
   "metadata": {},
   "source": [
    "#### 1.b)"
   ]
  },
  {
   "cell_type": "code",
   "execution_count": 2,
   "metadata": {
    "collapsed": false
   },
   "outputs": [
    {
     "name": "stdout",
     "output_type": "stream",
     "text": [
      "<class 'pandas.core.frame.DataFrame'>\n",
      "RangeIndex: 21613 entries, 0 to 21612\n",
      "Data columns (total 18 columns):\n",
      "price            21613 non-null float64\n",
      "bedrooms         21613 non-null int64\n",
      "bathrooms        21613 non-null float64\n",
      "sqft_living      21613 non-null int64\n",
      "sqft_lot         21613 non-null int64\n",
      "floors           21613 non-null float64\n",
      "waterfront       21613 non-null int64\n",
      "view             21613 non-null int64\n",
      "condition        21613 non-null int64\n",
      "grade            21613 non-null int64\n",
      "sqft_above       21613 non-null int64\n",
      "sqft_basement    21613 non-null int64\n",
      "yr_built         21613 non-null int64\n",
      "yr_renovated     21613 non-null int64\n",
      "lat              21613 non-null float64\n",
      "long             21613 non-null float64\n",
      "sqft_living15    21613 non-null int64\n",
      "sqft_lot15       21613 non-null int64\n",
      "dtypes: float64(5), int64(13)\n",
      "memory usage: 3.0 MB\n"
     ]
    },
    {
     "data": {
      "text/html": [
       "<div>\n",
       "<table border=\"1\" class=\"dataframe\">\n",
       "  <thead>\n",
       "    <tr style=\"text-align: right;\">\n",
       "      <th></th>\n",
       "      <th>price</th>\n",
       "      <th>bedrooms</th>\n",
       "      <th>bathrooms</th>\n",
       "      <th>sqft_living</th>\n",
       "      <th>sqft_lot</th>\n",
       "      <th>floors</th>\n",
       "      <th>waterfront</th>\n",
       "      <th>view</th>\n",
       "      <th>condition</th>\n",
       "      <th>grade</th>\n",
       "      <th>sqft_above</th>\n",
       "      <th>sqft_basement</th>\n",
       "      <th>yr_built</th>\n",
       "      <th>yr_renovated</th>\n",
       "      <th>lat</th>\n",
       "      <th>long</th>\n",
       "      <th>sqft_living15</th>\n",
       "      <th>sqft_lot15</th>\n",
       "    </tr>\n",
       "  </thead>\n",
       "  <tbody>\n",
       "    <tr>\n",
       "      <th>count</th>\n",
       "      <td>2.161300e+04</td>\n",
       "      <td>21613.000000</td>\n",
       "      <td>21613.000000</td>\n",
       "      <td>21613.000000</td>\n",
       "      <td>2.161300e+04</td>\n",
       "      <td>21613.000000</td>\n",
       "      <td>21613.000000</td>\n",
       "      <td>21613.000000</td>\n",
       "      <td>21613.000000</td>\n",
       "      <td>21613.000000</td>\n",
       "      <td>21613.000000</td>\n",
       "      <td>21613.000000</td>\n",
       "      <td>21613.000000</td>\n",
       "      <td>21613.000000</td>\n",
       "      <td>21613.000000</td>\n",
       "      <td>21613.000000</td>\n",
       "      <td>21613.000000</td>\n",
       "      <td>21613.000000</td>\n",
       "    </tr>\n",
       "    <tr>\n",
       "      <th>mean</th>\n",
       "      <td>5.400881e+05</td>\n",
       "      <td>3.370842</td>\n",
       "      <td>2.114757</td>\n",
       "      <td>2079.899736</td>\n",
       "      <td>1.510697e+04</td>\n",
       "      <td>1.494309</td>\n",
       "      <td>0.007542</td>\n",
       "      <td>0.234303</td>\n",
       "      <td>3.409430</td>\n",
       "      <td>7.656873</td>\n",
       "      <td>1788.390691</td>\n",
       "      <td>291.509045</td>\n",
       "      <td>1971.005136</td>\n",
       "      <td>84.402258</td>\n",
       "      <td>47.560053</td>\n",
       "      <td>-122.213896</td>\n",
       "      <td>1986.552492</td>\n",
       "      <td>12768.455652</td>\n",
       "    </tr>\n",
       "    <tr>\n",
       "      <th>std</th>\n",
       "      <td>3.671272e+05</td>\n",
       "      <td>0.930062</td>\n",
       "      <td>0.770163</td>\n",
       "      <td>918.440897</td>\n",
       "      <td>4.142051e+04</td>\n",
       "      <td>0.539989</td>\n",
       "      <td>0.086517</td>\n",
       "      <td>0.766318</td>\n",
       "      <td>0.650743</td>\n",
       "      <td>1.175459</td>\n",
       "      <td>828.090978</td>\n",
       "      <td>442.575043</td>\n",
       "      <td>29.373411</td>\n",
       "      <td>401.679240</td>\n",
       "      <td>0.138564</td>\n",
       "      <td>0.140828</td>\n",
       "      <td>685.391304</td>\n",
       "      <td>27304.179631</td>\n",
       "    </tr>\n",
       "    <tr>\n",
       "      <th>min</th>\n",
       "      <td>7.500000e+04</td>\n",
       "      <td>0.000000</td>\n",
       "      <td>0.000000</td>\n",
       "      <td>290.000000</td>\n",
       "      <td>5.200000e+02</td>\n",
       "      <td>1.000000</td>\n",
       "      <td>0.000000</td>\n",
       "      <td>0.000000</td>\n",
       "      <td>1.000000</td>\n",
       "      <td>1.000000</td>\n",
       "      <td>290.000000</td>\n",
       "      <td>0.000000</td>\n",
       "      <td>1900.000000</td>\n",
       "      <td>0.000000</td>\n",
       "      <td>47.155900</td>\n",
       "      <td>-122.519000</td>\n",
       "      <td>399.000000</td>\n",
       "      <td>651.000000</td>\n",
       "    </tr>\n",
       "    <tr>\n",
       "      <th>25%</th>\n",
       "      <td>3.219500e+05</td>\n",
       "      <td>3.000000</td>\n",
       "      <td>1.750000</td>\n",
       "      <td>1427.000000</td>\n",
       "      <td>5.040000e+03</td>\n",
       "      <td>1.000000</td>\n",
       "      <td>0.000000</td>\n",
       "      <td>0.000000</td>\n",
       "      <td>3.000000</td>\n",
       "      <td>7.000000</td>\n",
       "      <td>1190.000000</td>\n",
       "      <td>0.000000</td>\n",
       "      <td>1951.000000</td>\n",
       "      <td>0.000000</td>\n",
       "      <td>47.471000</td>\n",
       "      <td>-122.328000</td>\n",
       "      <td>1490.000000</td>\n",
       "      <td>5100.000000</td>\n",
       "    </tr>\n",
       "    <tr>\n",
       "      <th>50%</th>\n",
       "      <td>4.500000e+05</td>\n",
       "      <td>3.000000</td>\n",
       "      <td>2.250000</td>\n",
       "      <td>1910.000000</td>\n",
       "      <td>7.618000e+03</td>\n",
       "      <td>1.500000</td>\n",
       "      <td>0.000000</td>\n",
       "      <td>0.000000</td>\n",
       "      <td>3.000000</td>\n",
       "      <td>7.000000</td>\n",
       "      <td>1560.000000</td>\n",
       "      <td>0.000000</td>\n",
       "      <td>1975.000000</td>\n",
       "      <td>0.000000</td>\n",
       "      <td>47.571800</td>\n",
       "      <td>-122.230000</td>\n",
       "      <td>1840.000000</td>\n",
       "      <td>7620.000000</td>\n",
       "    </tr>\n",
       "    <tr>\n",
       "      <th>75%</th>\n",
       "      <td>6.450000e+05</td>\n",
       "      <td>4.000000</td>\n",
       "      <td>2.500000</td>\n",
       "      <td>2550.000000</td>\n",
       "      <td>1.068800e+04</td>\n",
       "      <td>2.000000</td>\n",
       "      <td>0.000000</td>\n",
       "      <td>0.000000</td>\n",
       "      <td>4.000000</td>\n",
       "      <td>8.000000</td>\n",
       "      <td>2210.000000</td>\n",
       "      <td>560.000000</td>\n",
       "      <td>1997.000000</td>\n",
       "      <td>0.000000</td>\n",
       "      <td>47.678000</td>\n",
       "      <td>-122.125000</td>\n",
       "      <td>2360.000000</td>\n",
       "      <td>10083.000000</td>\n",
       "    </tr>\n",
       "    <tr>\n",
       "      <th>max</th>\n",
       "      <td>7.700000e+06</td>\n",
       "      <td>33.000000</td>\n",
       "      <td>8.000000</td>\n",
       "      <td>13540.000000</td>\n",
       "      <td>1.651359e+06</td>\n",
       "      <td>3.500000</td>\n",
       "      <td>1.000000</td>\n",
       "      <td>4.000000</td>\n",
       "      <td>5.000000</td>\n",
       "      <td>13.000000</td>\n",
       "      <td>9410.000000</td>\n",
       "      <td>4820.000000</td>\n",
       "      <td>2015.000000</td>\n",
       "      <td>2015.000000</td>\n",
       "      <td>47.777600</td>\n",
       "      <td>-121.315000</td>\n",
       "      <td>6210.000000</td>\n",
       "      <td>871200.000000</td>\n",
       "    </tr>\n",
       "  </tbody>\n",
       "</table>\n",
       "</div>"
      ],
      "text/plain": [
       "              price      bedrooms     bathrooms   sqft_living      sqft_lot  \\\n",
       "count  2.161300e+04  21613.000000  21613.000000  21613.000000  2.161300e+04   \n",
       "mean   5.400881e+05      3.370842      2.114757   2079.899736  1.510697e+04   \n",
       "std    3.671272e+05      0.930062      0.770163    918.440897  4.142051e+04   \n",
       "min    7.500000e+04      0.000000      0.000000    290.000000  5.200000e+02   \n",
       "25%    3.219500e+05      3.000000      1.750000   1427.000000  5.040000e+03   \n",
       "50%    4.500000e+05      3.000000      2.250000   1910.000000  7.618000e+03   \n",
       "75%    6.450000e+05      4.000000      2.500000   2550.000000  1.068800e+04   \n",
       "max    7.700000e+06     33.000000      8.000000  13540.000000  1.651359e+06   \n",
       "\n",
       "             floors    waterfront          view     condition         grade  \\\n",
       "count  21613.000000  21613.000000  21613.000000  21613.000000  21613.000000   \n",
       "mean       1.494309      0.007542      0.234303      3.409430      7.656873   \n",
       "std        0.539989      0.086517      0.766318      0.650743      1.175459   \n",
       "min        1.000000      0.000000      0.000000      1.000000      1.000000   \n",
       "25%        1.000000      0.000000      0.000000      3.000000      7.000000   \n",
       "50%        1.500000      0.000000      0.000000      3.000000      7.000000   \n",
       "75%        2.000000      0.000000      0.000000      4.000000      8.000000   \n",
       "max        3.500000      1.000000      4.000000      5.000000     13.000000   \n",
       "\n",
       "         sqft_above  sqft_basement      yr_built  yr_renovated           lat  \\\n",
       "count  21613.000000   21613.000000  21613.000000  21613.000000  21613.000000   \n",
       "mean    1788.390691     291.509045   1971.005136     84.402258     47.560053   \n",
       "std      828.090978     442.575043     29.373411    401.679240      0.138564   \n",
       "min      290.000000       0.000000   1900.000000      0.000000     47.155900   \n",
       "25%     1190.000000       0.000000   1951.000000      0.000000     47.471000   \n",
       "50%     1560.000000       0.000000   1975.000000      0.000000     47.571800   \n",
       "75%     2210.000000     560.000000   1997.000000      0.000000     47.678000   \n",
       "max     9410.000000    4820.000000   2015.000000   2015.000000     47.777600   \n",
       "\n",
       "               long  sqft_living15     sqft_lot15  \n",
       "count  21613.000000   21613.000000   21613.000000  \n",
       "mean    -122.213896    1986.552492   12768.455652  \n",
       "std        0.140828     685.391304   27304.179631  \n",
       "min     -122.519000     399.000000     651.000000  \n",
       "25%     -122.328000    1490.000000    5100.000000  \n",
       "50%     -122.230000    1840.000000    7620.000000  \n",
       "75%     -122.125000    2360.000000   10083.000000  \n",
       "max     -121.315000    6210.000000  871200.000000  "
      ]
     },
     "execution_count": 2,
     "metadata": {},
     "output_type": "execute_result"
    }
   ],
   "source": [
    "df.shape\n",
    "df.info()\n",
    "df.describe()"
   ]
  },
  {
   "cell_type": "markdown",
   "metadata": {},
   "source": [
    "Se logra apreciar que en total hay 18 características en la tabla, y por lo tanto 18 columnas. Se observa además que hay 21613 filas (o datos), y que no existen datos nulos. Por otro lado, se tienen valores estadísticos para las distintas columnas tales como la media, el máximo, el mínimo, etc."
   ]
  },
  {
   "cell_type": "markdown",
   "metadata": {},
   "source": [
    "#### 1.c)"
   ]
  },
  {
   "cell_type": "code",
   "execution_count": 3,
   "metadata": {
    "collapsed": true
   },
   "outputs": [],
   "source": [
    "from sklearn.preprocessing import StandardScaler\n",
    "scaler = StandardScaler()\n",
    "df_scaled = pd.DataFrame(scaler.fit_transform(df), columns=df.columns)"
   ]
  },
  {
   "cell_type": "markdown",
   "metadata": {},
   "source": [
    "Hay ciertos algoritmos de maquinas de aprendizaje que se ven beneficiados por esta accion. Por ejemplo, hay ciertos clasificadores que, si uno de sus atributos posee un gran  rango de valores, ciertas operaciones (como distancia euclidiana) se veran gobernadas por estos atributos, es decir, daran mas prioridad de la que merecen a estos. Otra razon es que ciertos metodos, como gradiente descendiente convergen mas rapido al normalizar. \n",
    "Para explicar la transformación aplicada, sería buena idea plasmar los datos en una gráfica antes y después de esta."
   ]
  },
  {
   "cell_type": "code",
   "execution_count": 4,
   "metadata": {
    "collapsed": false
   },
   "outputs": [
    {
     "data": {
      "image/png": "[encoded data removed]",
      "text/plain": [
       "<matplotlib.figure.Figure at 0x7fb473693c50>"
      ]
     },
     "metadata": {},
     "output_type": "display_data"
    },
    {
     "data": {
      "image/png": "[encoded data removed]",
      "text/plain": [
       "<matplotlib.figure.Figure at 0x7fb47369ec50>"
      ]
     },
     "metadata": {},
     "output_type": "display_data"
    }
   ],
   "source": [
    "import matplotlib.pyplot as plt\n",
    "%matplotlib inline\n",
    "plt.hist(df_scaled['price'])\n",
    "plt.show()\n",
    "df_scaled['price'] = np.log(df['price'])\n",
    "df_scaled.head()\n",
    "plt.hist(df_scaled['price'])\n",
    "plt.show()"
   ]
  },
  {
   "cell_type": "markdown",
   "metadata": {},
   "source": [
    "Se logra apreciar el comportamiento exponencial negativo que poseen los datos incialmente, siendo además que se concentran en valores cercanos a 0. Al aplicar logaritmo a estos datos, se distribuyen de mejor manera y se les da más significancia."
   ]
  },
  {
   "cell_type": "markdown",
   "metadata": {},
   "source": [
    "#### 1.d)"
   ]
  },
  {
   "cell_type": "code",
   "execution_count": 5,
   "metadata": {
    "collapsed": false
   },
   "outputs": [
    {
     "data": {
      "text/plain": [
       "LinearRegression(copy_X=True, fit_intercept=False, n_jobs=1, normalize=False)"
      ]
     },
     "execution_count": 5,
     "metadata": {},
     "output_type": "execute_result"
    }
   ],
   "source": [
    "import sklearn.linear_model as lm\n",
    "X = df_scaled.iloc[:,1:] #use .ix instead, in older pandas version #quita la columna price\n",
    "N = X.shape[0]\n",
    "X.insert(X.shape[1], 'intercept', np.ones(N))#inserta la columna 'intercept' con valor 1.0\n",
    "y = df_scaled['price']\n",
    "##mascara estatica con el 70% de los datos\n",
    "mascara = np.zeros(len(X))\n",
    "limit = int(len(X)*0.7)\n",
    "mascara[:limit] = 1\n",
    "istrain = mascara== 1\n",
    "Xtrain = X[istrain]\n",
    "ytrain = y[istrain]\n",
    "Xtest = X[np.logical_not(istrain)]\n",
    "ytest = y[np.logical_not(istrain)]\n",
    "linreg = lm.LinearRegression(fit_intercept = False)\n",
    "linreg.fit(Xtrain, ytrain)\n"
   ]
  },
  {
   "cell_type": "markdown",
   "metadata": {},
   "source": [
    "El paso de la línea 4 se agrega debido a que el modelo lineal se define de la siguiente forma:\n",
    "$$ \\hat{y} = \\beta_0 + \\sum_{i=1}^{n} \\hat{\\beta_i} x_i  $$\n",
    "\n",
    "Donde $\\hat{\\beta_i}$ es el peso del i-esimo atributo, $x_i$ es el i-esimo atributo del input $x$ y $b_0$ es el intercepto.\n",
    "En modo vectorial esto se puede anotar como:\n",
    "$$ \\hat{y} = \\beta_0 +\\hat{\\beta}^T X $$\n",
    "\n",
    "A modo de notación y para simplicidad de operaciones, el vector $\\beta_0$ puede incluirse dentro del vector $\\hat{\\beta}^T$, siempre y cuando en la última posición del vector input $X$ se agrege un 1, de tal forma de que al multiplicarlos, se logre sumar $\\beta_0$.\n",
    "\n",
    "Los parametros que se le entregan a lm.LinearRegression son:\n",
    "\n",
    "- fit_intercept: por default es True. Si es False, significa que los datos ingresados ya estaran centrados\n",
    "- normalize: Por default es False. Si es True, los regresores seran normalizados\n",
    "- copy_X: por default es True. Si es True, X sera copieda. En caso contrario, sera sobreescrito\n",
    "- n_jobs: por default es 1. Es el numero de trabajos usados para computar\n",
    "\n",
    "El metodo fit recibe Xtrain e ytrain, quienes son la data de entrenamiento para la maquina (correspondiente al 70% de la data total). Xtrain posee todos los datos de las filas excepto el precio e ytrain posee el precio de cada fila asociada, dado que es la variable de estudio."
   ]
  },
  {
   "cell_type": "markdown",
   "metadata": {},
   "source": [
    "#### 1.e)"
   ]
  },
  {
   "cell_type": "code",
   "execution_count": 6,
   "metadata": {
    "collapsed": false,
    "scrolled": false
   },
   "outputs": [
    {
     "name": "stderr",
     "output_type": "stream",
     "text": [
      "/home/nicomero/anaconda3/lib/python3.6/site-packages/ipykernel/__main__.py:20: RuntimeWarning: invalid value encountered in double_scalars\n"
     ]
    },
    {
     "data": {
      "text/html": [
       "<div>\n",
       "<table border=\"1\" class=\"dataframe\">\n",
       "  <thead>\n",
       "    <tr style=\"text-align: right;\">\n",
       "      <th></th>\n",
       "      <th>Atributos</th>\n",
       "      <th>Pesos</th>\n",
       "      <th>z-scores</th>\n",
       "    </tr>\n",
       "  </thead>\n",
       "  <tbody>\n",
       "    <tr>\n",
       "      <th>0</th>\n",
       "      <td>bedrooms</td>\n",
       "      <td>-6.109271e-03</td>\n",
       "      <td>-2.240874</td>\n",
       "    </tr>\n",
       "    <tr>\n",
       "      <th>1</th>\n",
       "      <td>bathrooms</td>\n",
       "      <td>5.611683e-02</td>\n",
       "      <td>14.693788</td>\n",
       "    </tr>\n",
       "    <tr>\n",
       "      <th>2</th>\n",
       "      <td>sqft_living</td>\n",
       "      <td>-4.178770e+12</td>\n",
       "      <td>NaN</td>\n",
       "    </tr>\n",
       "    <tr>\n",
       "      <th>3</th>\n",
       "      <td>sqft_lot</td>\n",
       "      <td>2.086145e-02</td>\n",
       "      <td>7.150810</td>\n",
       "    </tr>\n",
       "    <tr>\n",
       "      <th>4</th>\n",
       "      <td>floors</td>\n",
       "      <td>3.683352e-02</td>\n",
       "      <td>12.018726</td>\n",
       "    </tr>\n",
       "    <tr>\n",
       "      <th>5</th>\n",
       "      <td>waterfront</td>\n",
       "      <td>3.325031e-02</td>\n",
       "      <td>14.660577</td>\n",
       "    </tr>\n",
       "    <tr>\n",
       "      <th>6</th>\n",
       "      <td>view</td>\n",
       "      <td>4.229775e-02</td>\n",
       "      <td>17.475650</td>\n",
       "    </tr>\n",
       "    <tr>\n",
       "      <th>7</th>\n",
       "      <td>condition</td>\n",
       "      <td>4.678018e-02</td>\n",
       "      <td>21.213867</td>\n",
       "    </tr>\n",
       "    <tr>\n",
       "      <th>8</th>\n",
       "      <td>grade</td>\n",
       "      <td>1.839349e-01</td>\n",
       "      <td>47.469360</td>\n",
       "    </tr>\n",
       "    <tr>\n",
       "      <th>9</th>\n",
       "      <td>sqft_above</td>\n",
       "      <td>3.767691e+12</td>\n",
       "      <td>NaN</td>\n",
       "    </tr>\n",
       "    <tr>\n",
       "      <th>10</th>\n",
       "      <td>sqft_basement</td>\n",
       "      <td>2.013651e+12</td>\n",
       "      <td>NaN</td>\n",
       "    </tr>\n",
       "    <tr>\n",
       "      <th>11</th>\n",
       "      <td>yr_built</td>\n",
       "      <td>-1.093750e-01</td>\n",
       "      <td>-33.628983</td>\n",
       "    </tr>\n",
       "    <tr>\n",
       "      <th>12</th>\n",
       "      <td>yr_renovated</td>\n",
       "      <td>1.586914e-02</td>\n",
       "      <td>7.386736</td>\n",
       "    </tr>\n",
       "    <tr>\n",
       "      <th>13</th>\n",
       "      <td>lat</td>\n",
       "      <td>1.875000e-01</td>\n",
       "      <td>86.338375</td>\n",
       "    </tr>\n",
       "    <tr>\n",
       "      <th>14</th>\n",
       "      <td>long</td>\n",
       "      <td>-4.547119e-03</td>\n",
       "      <td>-1.771854</td>\n",
       "    </tr>\n",
       "    <tr>\n",
       "      <th>15</th>\n",
       "      <td>sqft_living15</td>\n",
       "      <td>8.789062e-02</td>\n",
       "      <td>24.100116</td>\n",
       "    </tr>\n",
       "    <tr>\n",
       "      <th>16</th>\n",
       "      <td>sqft_lot15</td>\n",
       "      <td>-5.371094e-03</td>\n",
       "      <td>-1.797022</td>\n",
       "    </tr>\n",
       "    <tr>\n",
       "      <th>17</th>\n",
       "      <td>intercept</td>\n",
       "      <td>1.303909e+01</td>\n",
       "      <td>6218.700032</td>\n",
       "    </tr>\n",
       "  </tbody>\n",
       "</table>\n",
       "</div>"
      ],
      "text/plain": [
       "        Atributos         Pesos     z-scores\n",
       "0        bedrooms -6.109271e-03    -2.240874\n",
       "1       bathrooms  5.611683e-02    14.693788\n",
       "2     sqft_living -4.178770e+12          NaN\n",
       "3        sqft_lot  2.086145e-02     7.150810\n",
       "4          floors  3.683352e-02    12.018726\n",
       "5      waterfront  3.325031e-02    14.660577\n",
       "6            view  4.229775e-02    17.475650\n",
       "7       condition  4.678018e-02    21.213867\n",
       "8           grade  1.839349e-01    47.469360\n",
       "9      sqft_above  3.767691e+12          NaN\n",
       "10  sqft_basement  2.013651e+12          NaN\n",
       "11       yr_built -1.093750e-01   -33.628983\n",
       "12   yr_renovated  1.586914e-02     7.386736\n",
       "13            lat  1.875000e-01    86.338375\n",
       "14           long -4.547119e-03    -1.771854\n",
       "15  sqft_living15  8.789062e-02    24.100116\n",
       "16     sqft_lot15 -5.371094e-03    -1.797022\n",
       "17      intercept  1.303909e+01  6218.700032"
      ]
     },
     "metadata": {},
     "output_type": "display_data"
    },
    {
     "name": "stdout",
     "output_type": "stream",
     "text": [
      "Numero de condicion:  3.78470305733e+15\n",
      "[(-0.0061092714733443311, -2.2408739726096827), (0.056116828630964122, 14.693788419792799), (0.020861453420613518, 7.1508098631770984), (0.036833516992128446, 12.018726337366612), (0.033250311162971335, 14.660576882628025), (0.04229774806314146, 17.475650024938247), (0.046780181287400247, 21.213866721073973), (0.18393489265054752, 47.469360177825628), (-0.109375, -33.628983443019251), (0.015869140625, 7.386735989466227), (0.1875, 86.338374817169722), (0.087890625, 24.100116349361791), (13.039093017578125, 6218.7000315840096)]\n"
     ]
    }
   ],
   "source": [
    "def zscore(linreg,Xtrain,ytrain,c=1):   \n",
    "    z=[]\n",
    "    atributos=[]\n",
    "    predicciones = linreg.predict(Xtrain)\n",
    "\n",
    "    deltas = ytrain-predicciones   #y en la parte 1.d era la columna precio. Con istrain le aplico mascara pra selccionar datos\n",
    "    numerador1 = deltas.dot(deltas)\n",
    "    denominador1 = len(deltas) - len(linreg.coef_) - 1\n",
    "    theta = numerador1 /  denominador1\n",
    "    theta=theta**0.5\n",
    "\n",
    "    xt = np.transpose(Xtrain)\n",
    "    xtx = ( xt.dot(Xtrain) )\n",
    "    vjj = np.linalg.inv(xtx)\n",
    "    \n",
    "    listup = []\n",
    "    j=0\n",
    "    for i in linreg.coef_:\n",
    "        peso = i\n",
    "        z_score = i/( theta*( vjj[j][j] )**0.5 )\n",
    "        j+=1\n",
    "        z.append(z_score)\n",
    "        if abs(z_score) > 1.96:\n",
    "            listup.append((peso,z_score))\n",
    "        if c==1:\n",
    "            atributos.append(Xtrain.columns[j-1])\n",
    "    if c==1:\n",
    "        d = {'Atributos' : atributos,\n",
    "             'Pesos' : np.asarray(linreg.coef_),\n",
    "             'z-scores' : z}\n",
    "        matriz=pd.DataFrame(d)\n",
    "        display(matriz)\n",
    "        print(\"Numero de condicion: \",np.linalg.cond(Xtrain))#numero condicion matriz a\n",
    "    return z, listup\n",
    "scores, trust = zscore(linreg,Xtrain,ytrain)\n",
    "print(trust)"
   ]
  },
  {
   "cell_type": "markdown",
   "metadata": {},
   "source": [
    "Para encontrar el z-score se aplicó la siguiente ecuación:\n",
    "$$z-score=\\frac{\\hat{\\beta_j}}{\\hat{\\sigma}\\sqrt{\\hat{v}_{jj}}}$$\n",
    "En donde el $\\hat{\\beta_j}$ es el estimador del peso de cierto atributo, $\\hat{\\sigma}$ es la desviación estándar y $\\sqrt{\\hat{v}_{jj}}$ es el valor en la diagonal en la matriz de covarianzas del modelo.\n",
    "\n",
    "Se puede ver que hay valores de z-score que dan como resultado NaN (not a number). Esto se puede deber a las caracteristicas de la matriz Xtrain, la cual esta mal condicionada (su numero de condicion es significativamente mayor que 1). Este mal condicionamiento puede ser debido a que hay columnas (atributos) que son linealmnete dependientes (o muy cercanas a serlo) de otras. "
   ]
  },
  {
   "cell_type": "markdown",
   "metadata": {},
   "source": [
    "#### 1.f)"
   ]
  },
  {
   "cell_type": "code",
   "execution_count": 7,
   "metadata": {
    "collapsed": false
   },
   "outputs": [
    {
     "data": {
      "image/png": "[encoded data removed]",
      "text/plain": [
       "<matplotlib.figure.Figure at 0x7fb473693828>"
      ]
     },
     "metadata": {},
     "output_type": "display_data"
    }
   ],
   "source": [
    "plt.figure(figsize = (10, 5))\n",
    "plt.plot(Xtrain['sqft_living'],Xtrain['sqft_above'],'*')\n",
    "plt.xlabel('sqft_living')\n",
    "plt.ylabel('sqft_above')\n",
    "plt.show()"
   ]
  },
  {
   "cell_type": "markdown",
   "metadata": {},
   "source": [
    "Como se aprecia en la gráfica, se aprecia que las variables $\\textit{sqft_living}$ y $\\textit{sqft_above}$ están linealmente relacionadas. Para solucionar esto, se pueden quitar alguna de las columnas que poseen dependencia."
   ]
  },
  {
   "cell_type": "code",
   "execution_count": 8,
   "metadata": {
    "collapsed": false
   },
   "outputs": [
    {
     "data": {
      "text/html": [
       "<div>\n",
       "<table border=\"1\" class=\"dataframe\">\n",
       "  <thead>\n",
       "    <tr style=\"text-align: right;\">\n",
       "      <th></th>\n",
       "      <th>Atributos</th>\n",
       "      <th>Pesos</th>\n",
       "      <th>z-scores</th>\n",
       "    </tr>\n",
       "  </thead>\n",
       "  <tbody>\n",
       "    <tr>\n",
       "      <th>0</th>\n",
       "      <td>bedrooms</td>\n",
       "      <td>-0.008270</td>\n",
       "      <td>-3.034180</td>\n",
       "    </tr>\n",
       "    <tr>\n",
       "      <th>1</th>\n",
       "      <td>bathrooms</td>\n",
       "      <td>0.055960</td>\n",
       "      <td>14.656511</td>\n",
       "    </tr>\n",
       "    <tr>\n",
       "      <th>2</th>\n",
       "      <td>sqft_lot</td>\n",
       "      <td>0.022159</td>\n",
       "      <td>7.597741</td>\n",
       "    </tr>\n",
       "    <tr>\n",
       "      <th>3</th>\n",
       "      <td>floors</td>\n",
       "      <td>0.037595</td>\n",
       "      <td>12.270293</td>\n",
       "    </tr>\n",
       "    <tr>\n",
       "      <th>4</th>\n",
       "      <td>waterfront</td>\n",
       "      <td>0.033526</td>\n",
       "      <td>14.786181</td>\n",
       "    </tr>\n",
       "    <tr>\n",
       "      <th>5</th>\n",
       "      <td>view</td>\n",
       "      <td>0.042082</td>\n",
       "      <td>17.391277</td>\n",
       "    </tr>\n",
       "    <tr>\n",
       "      <th>6</th>\n",
       "      <td>condition</td>\n",
       "      <td>0.045277</td>\n",
       "      <td>20.537495</td>\n",
       "    </tr>\n",
       "    <tr>\n",
       "      <th>7</th>\n",
       "      <td>grade</td>\n",
       "      <td>0.186212</td>\n",
       "      <td>48.069777</td>\n",
       "    </tr>\n",
       "    <tr>\n",
       "      <th>8</th>\n",
       "      <td>sqft_above</td>\n",
       "      <td>0.099216</td>\n",
       "      <td>21.085966</td>\n",
       "    </tr>\n",
       "    <tr>\n",
       "      <th>9</th>\n",
       "      <td>sqft_basement</td>\n",
       "      <td>0.059536</td>\n",
       "      <td>20.667375</td>\n",
       "    </tr>\n",
       "    <tr>\n",
       "      <th>10</th>\n",
       "      <td>yr_built</td>\n",
       "      <td>-0.109875</td>\n",
       "      <td>-33.791670</td>\n",
       "    </tr>\n",
       "    <tr>\n",
       "      <th>11</th>\n",
       "      <td>yr_renovated</td>\n",
       "      <td>0.014798</td>\n",
       "      <td>6.890014</td>\n",
       "    </tr>\n",
       "    <tr>\n",
       "      <th>12</th>\n",
       "      <td>lat</td>\n",
       "      <td>0.186277</td>\n",
       "      <td>85.797926</td>\n",
       "    </tr>\n",
       "    <tr>\n",
       "      <th>13</th>\n",
       "      <td>long</td>\n",
       "      <td>-0.004079</td>\n",
       "      <td>-1.589935</td>\n",
       "    </tr>\n",
       "    <tr>\n",
       "      <th>14</th>\n",
       "      <td>sqft_living15</td>\n",
       "      <td>0.085933</td>\n",
       "      <td>23.569432</td>\n",
       "    </tr>\n",
       "    <tr>\n",
       "      <th>15</th>\n",
       "      <td>sqft_lot15</td>\n",
       "      <td>-0.007013</td>\n",
       "      <td>-2.346857</td>\n",
       "    </tr>\n",
       "    <tr>\n",
       "      <th>16</th>\n",
       "      <td>intercept</td>\n",
       "      <td>13.039692</td>\n",
       "      <td>6220.621563</td>\n",
       "    </tr>\n",
       "  </tbody>\n",
       "</table>\n",
       "</div>"
      ],
      "text/plain": [
       "        Atributos      Pesos     z-scores\n",
       "0        bedrooms  -0.008270    -3.034180\n",
       "1       bathrooms   0.055960    14.656511\n",
       "2        sqft_lot   0.022159     7.597741\n",
       "3          floors   0.037595    12.270293\n",
       "4      waterfront   0.033526    14.786181\n",
       "5            view   0.042082    17.391277\n",
       "6       condition   0.045277    20.537495\n",
       "7           grade   0.186212    48.069777\n",
       "8      sqft_above   0.099216    21.085966\n",
       "9   sqft_basement   0.059536    20.667375\n",
       "10       yr_built  -0.109875   -33.791670\n",
       "11   yr_renovated   0.014798     6.890014\n",
       "12            lat   0.186277    85.797926\n",
       "13           long  -0.004079    -1.589935\n",
       "14  sqft_living15   0.085933    23.569432\n",
       "15     sqft_lot15  -0.007013    -2.346857\n",
       "16      intercept  13.039692  6220.621563"
      ]
     },
     "metadata": {},
     "output_type": "display_data"
    },
    {
     "name": "stdout",
     "output_type": "stream",
     "text": [
      "Numero de condicion:  5.68782366052\n"
     ]
    }
   ],
   "source": [
    "Xtrain2=Xtrain.drop(['sqft_living'],axis=1,inplace=False)\n",
    "linreg2 = lm.LinearRegression(fit_intercept = False)\n",
    "linreg2.fit(Xtrain2, ytrain)\n",
    "\n",
    "scores2=zscore(linreg2,Xtrain2,ytrain)"
   ]
  },
  {
   "cell_type": "markdown",
   "metadata": {},
   "source": [
    "#### 1.g)"
   ]
  },
  {
   "cell_type": "code",
   "execution_count": 9,
   "metadata": {
    "collapsed": false
   },
   "outputs": [
    {
     "name": "stdout",
     "output_type": "stream",
     "text": [
      "Error real (sin validación): 0.06556500587668351\n",
      "Error de validación (10 folds): 0.064712398403\n",
      "Error de validación (5 folds): 0.0646897103094\n"
     ]
    }
   ],
   "source": [
    "yhat_test = linreg.predict(Xtest)\n",
    "mse_test = np.mean(np.power(yhat_test - ytest, 2))\n",
    "Xm = Xtrain.as_matrix()\n",
    "ym = ytrain.as_matrix()\n",
    "from sklearn.model_selection import KFold\n",
    "##Para 10 Folds\n",
    "kf = KFold(n_splits=10)\n",
    "mse_cv10 = 0\n",
    "for train, val in kf.split(Xm):\n",
    "    linreg = lm.LinearRegression(fit_intercept = False)\n",
    "    linreg.fit(Xm[train], ym[train])\n",
    "    yhat_val = linreg.predict(Xm[val])\n",
    "    mse_fold = np.mean(np.power(yhat_val - ym[val], 2))\n",
    "    mse_cv10 += mse_fold\n",
    "mse_cv10 = mse_cv10 / 10\n",
    "##Para 5 Folds\n",
    "kf = KFold(n_splits=5)\n",
    "mse_cv5 = 0\n",
    "for train, val in kf.split(Xm):\n",
    "    linreg = lm.LinearRegression(fit_intercept = False)\n",
    "    linreg.fit(Xm[train], ym[train])\n",
    "    yhat_val = linreg.predict(Xm[val])\n",
    "    mse_fold = np.mean(np.power(yhat_val - ym[val], 2))\n",
    "    mse_cv5 += mse_fold\n",
    "mse_cv5 = mse_cv5 / 5\n",
    "\n",
    "print ('Error real (sin validación):',mse_test)\n",
    "print ('Error de validación (10 folds):',mse_cv10)\n",
    "print ('Error de validación (5 folds):',mse_cv5)"
   ]
  },
  {
   "cell_type": "markdown",
   "metadata": {},
   "source": [
    "Al observar los errores se logra apreciar que utilizar 10 folds de cross validation disminuye el error de predicción comparado con los otros métodos (con menos folds). Por otro lado, utilizar validación disminuye el error en comparación a sólo utilizar el conjunto de pruebas."
   ]
  },
  {
   "cell_type": "markdown",
   "metadata": {},
   "source": [
    "#### 1.h)"
   ]
  },
  {
   "cell_type": "code",
   "execution_count": 10,
   "metadata": {
    "collapsed": false,
    "scrolled": true
   },
   "outputs": [
    {
     "data": {
      "image/png": "[encoded data removed]",
      "text/plain": [
       "<matplotlib.figure.Figure at 0x7fb46b3c7a90>"
      ]
     },
     "metadata": {},
     "output_type": "display_data"
    }
   ],
   "source": [
    "import pylab\n",
    "import scipy.stats as stats\n",
    "yhat = linreg.predict(Xtrain)\n",
    "\n",
    "diferencias = ytrain - yhat\n",
    "\n",
    "plt.figure(figsize = (16, 5))\n",
    "stats.probplot(diferencias, dist=\"norm\", plot=pylab)\n",
    "pylab.show()"
   ]
  },
  {
   "cell_type": "markdown",
   "metadata": {},
   "source": [
    "Es razonable la hipótesis de normalidad dado que los datos se adecuan en gran medida a la distribución normal. Los datos que se escapan sólo yacen en los extremos y no son la concentración de estos."
   ]
  },
  {
   "cell_type": "markdown",
   "metadata": {},
   "source": [
    "### Pregunta 2"
   ]
  },
  {
   "cell_type": "markdown",
   "metadata": {},
   "source": [
    "#### 2.a)"
   ]
  },
  {
   "cell_type": "code",
   "execution_count": 11,
   "metadata": {
    "collapsed": false,
    "scrolled": false
   },
   "outputs": [
    {
     "name": "stdout",
     "output_type": "stream",
     "text": [
      "selected = grade ...\n",
      "totalvars=2, mse = 0.378497\n",
      "selected = lat ...\n",
      "totalvars=3, mse = 0.321466\n",
      "selected = sqft_living ...\n",
      "totalvars=4, mse = 0.291479\n",
      "selected = yr_built ...\n",
      "totalvars=5, mse = 0.274676\n",
      "selected = view ...\n",
      "totalvars=6, mse = 0.267921\n",
      "selected = condition ...\n",
      "totalvars=7, mse = 0.265139\n",
      "selected = sqft_living15 ...\n",
      "totalvars=8, mse = 0.261639\n",
      "selected = bathrooms ...\n",
      "totalvars=9, mse = 0.258581\n",
      "selected = waterfront ...\n",
      "totalvars=10, mse = 0.256585\n",
      "selected = floors ...\n",
      "totalvars=11, mse = 0.255161\n",
      "selected = sqft_lot ...\n",
      "totalvars=12, mse = 0.254598\n",
      "selected = yr_renovated ...\n",
      "totalvars=13, mse = 0.254203\n",
      "selected = bedrooms ...\n",
      "totalvars=14, mse = 0.254133\n",
      "selected = sqft_lot15 ...\n",
      "totalvars=15, mse = 0.254075\n",
      "selected = sqft_basement ...\n",
      "totalvars=16, mse = 0.254022\n",
      "selected = sqft_above ...\n",
      "totalvars=17, mse = 0.254041\n",
      "selected = long ...\n",
      "totalvars=18, mse = 0.254006\n"
     ]
    },
    {
     "data": {
      "image/png": "[encoded data removed]",
      "text/plain": [
       "<matplotlib.figure.Figure at 0x7fb46b346710>"
      ]
     },
     "metadata": {},
     "output_type": "display_data"
    }
   ],
   "source": [
    "def fss(x, y, names_x, k = 10000):\n",
    "    X = Xtest.as_matrix()\n",
    "    Y= ytest.as_matrix()\n",
    "    train_err=[]\n",
    "    test_err=[]\n",
    "    p = x.shape[1]-1 #cantidad de atributos \n",
    "    k = min(p, k) #maxima cantidad de atributos elegidos\n",
    "    names_x = np.array(names_x) #nombres de los atributos\n",
    "    remaining = list(range(0, p)) \n",
    "    selected = [p]\n",
    "    current_score = best_new_score = 0.0\n",
    "    while remaining and len(selected)<=k : #mientras queden atributos por agregar y no se supere el maximo\n",
    "        score_candidates = []\n",
    "        for candidate in remaining:\n",
    "            model = lm.LinearRegression(fit_intercept=False)\n",
    "            indexes = selected + [candidate] #atriubtos que son los mejores + un atributo de los que queda\n",
    "            x_train = x[:,indexes]\n",
    "            X_test = X[:,indexes]\n",
    "            \n",
    "            predictions_train = model.fit(x_train, y).predict(x_train)\n",
    "            \n",
    "            scores=map(abs,zscore(model,x_train,y,0)[0])\n",
    "            puntaje=sum(scores)\n",
    "            \n",
    "            residuals_train = predictions_train - y\n",
    "            mse_candidate = (residuals_train.dot(residuals_train)/len(residuals_train))**0.5\n",
    "            \n",
    "            predictions_test = model.predict(X_test)\n",
    "            residuals_test = predictions_test - Y\n",
    "            err = (residuals_test.dot(residuals_test)/len(residuals_test))**0.5\n",
    "            \n",
    "            score_candidates.append((puntaje, mse_candidate, candidate, err)) #arma una tupla con el error y el candidato\n",
    "            \n",
    "        score_candidates.sort() #ordena por los errores mas chicos\n",
    "        score_candidates.reverse()\n",
    "        #score_candidates[:] = score_candidates[::-1] #invierte la lista\n",
    "        best_puntaje, best_new_score, best_candidate,best_test_score = score_candidates[0]#.pop() #saca el mejor atributo (esta al final de la lista)\n",
    "        remaining.remove(best_candidate)\n",
    "        selected.append(best_candidate)\n",
    "        train_err.append((len(selected),best_new_score))\n",
    "        test_err.append((len(selected),best_test_score))\n",
    "        print (\"selected = %s ...\"%names_x[best_candidate])\n",
    "        print (\"totalvars=%d, mse = %f\"%(len(indexes),best_new_score))\n",
    "    return selected,train_err,test_err\n",
    "names_regressors = X.columns[:-1] #without intercept\n",
    "selec,train,test=fss(Xm,ym,names_regressors)\n",
    "train.sort()\n",
    "test.sort()\n",
    "plt.figure(figsize = (16, 5))\n",
    "plt.xlabel('Cantidad de Atributos')\n",
    "plt.ylabel('Error')\n",
    "plt.plot([i[0] for i in train],[i[1] for i in train], '*-')\n",
    "plt.plot([i[0] for i in test],[i[1] for i in test], '*-')\n",
    "plt.legend(['Entrenamiento','Prueba'])\n",
    "plt.show()"
   ]
  },
  {
   "cell_type": "markdown",
   "metadata": {},
   "source": [
    "El método utilizado para seleccionar atributos se basó en seleccionar el atributo que producía una mayor sumatoria de los z-score totales resultantes del entrenamiento. De esa forma se maximizaba el z-score del modelo en cada iteración."
   ]
  },
  {
   "cell_type": "markdown",
   "metadata": {},
   "source": [
    "### Pregunta 3"
   ]
  },
  {
   "cell_type": "markdown",
   "metadata": {},
   "source": [
    "#### 3.a)"
   ]
  },
  {
   "cell_type": "code",
   "execution_count": 12,
   "metadata": {
    "collapsed": false
   },
   "outputs": [
    {
     "data": {
      "image/png": "[encoded data removed]",
      "text/plain": [
       "<matplotlib.figure.Figure at 0x7fb46b342748>"
      ]
     },
     "metadata": {},
     "output_type": "display_data"
    }
   ],
   "source": [
    "#se grafica los pesos que se da a cada parametro variando el lambda--->alpha\n",
    "\n",
    "from sklearn.linear_model import Ridge\n",
    "import matplotlib.pylab as plt\n",
    "X2 = X.drop('intercept', axis=1,inplace=False)  #quita el intercepto\n",
    "Xtrain = X2[istrain]\n",
    "ytrain = y[istrain]\n",
    "names_regressors = X2.columns\n",
    "alphas_ = np.logspace(7,1,base=10)\n",
    "coefs = []\n",
    "model = Ridge(fit_intercept=True,solver='svd')  #pide que la regresion tome en cuenta el intercepto desde dentro\n",
    "for a in alphas_:\n",
    "    model.set_params(alpha=a)\n",
    "    model.fit(Xtrain, ytrain)\n",
    "    coefs.append(model.coef_)\n",
    "plt.figure(figsize = (16,9))\n",
    "ax = plt.gca()\n",
    "for y_arr, label in zip(np.squeeze(coefs).T, names_regressors):\n",
    "    plt.plot(alphas_, y_arr, label=label)\n",
    "plt.legend()\n",
    "ax.set_xscale('log')\n",
    "ax.set_xlim(ax.get_xlim()[::-1]) # reverse axis\n",
    "plt.title('Regularization Path RIDGE')\n",
    "plt.axis('tight')\n",
    "plt.legend(loc=2)\n",
    "plt.show()"
   ]
  },
  {
   "cell_type": "markdown",
   "metadata": {},
   "source": [
    "#### 3.b)"
   ]
  },
  {
   "cell_type": "code",
   "execution_count": 13,
   "metadata": {
    "collapsed": false
   },
   "outputs": [
    {
     "data": {
      "image/png": "[encoded data removed]",
      "text/plain": [
       "<matplotlib.figure.Figure at 0x7fb46d7549e8>"
      ]
     },
     "metadata": {},
     "output_type": "display_data"
    }
   ],
   "source": [
    "\n",
    "from sklearn.linear_model import Lasso\n",
    "import matplotlib.pylab as plt\n",
    "X2 = X.drop('intercept', axis=1,inplace=False)  #quita el intercepto\n",
    "Xtrain = X2[istrain]\n",
    "ytrain = y[istrain]\n",
    "names_regressors = X2.columns\n",
    "alphas_ = np.logspace(0,-3,base=10)\n",
    "coefs = []\n",
    "model = Lasso(fit_intercept=True)\n",
    "for a in alphas_:\n",
    "    model.set_params(alpha=a)\n",
    "    model.fit(Xtrain, ytrain)\n",
    "    coefs.append(model.coef_)\n",
    "plt.figure(figsize = (16,9))\n",
    "ax = plt.gca()\n",
    "for y_arr, label in zip(np.squeeze(coefs).T, names_regressors):\n",
    "    plt.plot(alphas_, y_arr, label=label)\n",
    "plt.legend()\n",
    "ax.set_xscale('log')\n",
    "ax.set_xlim(ax.get_xlim()[::-1]) # reverse axis\n",
    "plt.title('Regularization Path LASSO')\n",
    "plt.axis('tight')\n",
    "plt.legend(loc=2)\n",
    "plt.show()"
   ]
  },
  {
   "cell_type": "markdown",
   "metadata": {},
   "source": [
    "Para seleccionar atributos es mejor LASSO, debido a que filtra de forma fuerte, eliminando de forma temprana atributos cuyo efecto en la decision es despreciable en comparacion con los otros sin necesidad de usar $\\lambda$ muy grandes (mientras ajusta lso pesos hace la filtracion), mientras que Ridge, al filtrar de forma suave, nunca elimina por completo atributos y en valores de $\\lambda$ da pesos muy parecidos, haciendo dificil la eleccion."
   ]
  },
  {
   "cell_type": "markdown",
   "metadata": {},
   "source": [
    "#### 3.c)"
   ]
  },
  {
   "cell_type": "code",
   "execution_count": 14,
   "metadata": {
    "collapsed": false
   },
   "outputs": [
    {
     "data": {
      "image/png": "[encoded data removed]",
      "text/plain": [
       "<matplotlib.figure.Figure at 0x7fb46c4d6fd0>"
      ]
     },
     "metadata": {},
     "output_type": "display_data"
    }
   ],
   "source": [
    "Xtest = X2[np.logical_not(istrain)]\n",
    "ytest = y[np.logical_not(istrain)]\n",
    "alphas_ = np.logspace(0,-3,base=10)\n",
    "coefs = []\n",
    "model = Lasso(fit_intercept=True)\n",
    "mse_test = []\n",
    "mse_train = []\n",
    "for a in alphas_:\n",
    "    model.set_params(alpha=a)\n",
    "    model.fit(Xtrain, ytrain)\n",
    "    yhat_train = model.predict(Xtrain)\n",
    "    yhat_test = model.predict(Xtest)\n",
    "    mse_train.append(np.mean(np.power(yhat_train - ytrain, 2)))\n",
    "    mse_test.append(np.mean(np.power(yhat_test - ytest, 2)))\n",
    "ax = plt.gca()\n",
    "ax.plot(alphas_,mse_train,label='train error LASSO')\n",
    "ax.plot(alphas_,mse_test,label='test error LASSO')\n",
    "plt.legend(loc=1)\n",
    "ax.set_xscale('log')\n",
    "ax.set_xlim(ax.get_xlim()[::-1])\n",
    "plt.show()"
   ]
  },
  {
   "cell_type": "markdown",
   "metadata": {},
   "source": [
    " Se escogio Lasso ya que permitiria comparar que es lo que pasa con el error cuando ciertos atributos son eliminados.\n",
    "\n",
    "Observando lo sucedido, se puede ver que en $\\lambda = 1/10$ el error de test es menor que el error de train. Ademas, en $10^⁻1$ se trabajaba con solo 5 atributos con peso diferente de 0. Esto puede ser señal de que se logro evitar overfitting debido a que se comporta bien con inputs no usados para el entrenamiento usando un modelo mas simple que el que trabaja con todos los atributos."
   ]
  },
  {
   "cell_type": "markdown",
   "metadata": {
    "collapsed": true
   },
   "source": [
    "#### 3.d)"
   ]
  },
  {
   "cell_type": "code",
   "execution_count": 22,
   "metadata": {
    "collapsed": false
   },
   "outputs": [
    {
     "name": "stdout",
     "output_type": "stream",
     "text": [
      "BEST PARAMETER=1.000000, MSE(CV)=0.277498\n",
      "BEST PARAMETER=0.323746, MSE(CV)=0.248552\n",
      "BEST PARAMETER=0.281177, MSE(CV)=0.218688\n",
      "BEST PARAMETER=0.244205, MSE(CV)=0.196162\n",
      "BEST PARAMETER=0.212095, MSE(CV)=0.173554\n",
      "BEST PARAMETER=0.184207, MSE(CV)=0.151799\n",
      "BEST PARAMETER=0.159986, MSE(CV)=0.135389\n",
      "BEST PARAMETER=0.138950, MSE(CV)=0.122715\n",
      "BEST PARAMETER=0.120679, MSE(CV)=0.113007\n",
      "BEST PARAMETER=0.104811, MSE(CV)=0.105611\n",
      "BEST PARAMETER=0.091030, MSE(CV)=0.098822\n",
      "BEST PARAMETER=0.079060, MSE(CV)=0.093648\n",
      "BEST PARAMETER=0.068665, MSE(CV)=0.089745\n",
      "BEST PARAMETER=0.059636, MSE(CV)=0.085907\n",
      "BEST PARAMETER=0.051795, MSE(CV)=0.081724\n",
      "BEST PARAMETER=0.044984, MSE(CV)=0.078441\n",
      "BEST PARAMETER=0.039069, MSE(CV)=0.075561\n",
      "BEST PARAMETER=0.033932, MSE(CV)=0.073192\n",
      "BEST PARAMETER=0.029471, MSE(CV)=0.071383\n",
      "BEST PARAMETER=0.025595, MSE(CV)=0.069968\n",
      "BEST PARAMETER=0.022230, MSE(CV)=0.068753\n",
      "BEST PARAMETER=0.019307, MSE(CV)=0.067832\n",
      "BEST PARAMETER=0.016768, MSE(CV)=0.067134\n",
      "BEST PARAMETER=0.014563, MSE(CV)=0.066575\n",
      "BEST PARAMETER=0.012649, MSE(CV)=0.066123\n",
      "BEST PARAMETER=0.010985, MSE(CV)=0.065782\n",
      "BEST PARAMETER=0.009541, MSE(CV)=0.065524\n",
      "BEST PARAMETER=0.008286, MSE(CV)=0.065330\n",
      "BEST PARAMETER=0.007197, MSE(CV)=0.065184\n",
      "BEST PARAMETER=0.006251, MSE(CV)=0.065077\n",
      "BEST PARAMETER=0.005429, MSE(CV)=0.064996\n",
      "BEST PARAMETER=0.004715, MSE(CV)=0.064930\n",
      "BEST PARAMETER=0.004095, MSE(CV)=0.064879\n",
      "BEST PARAMETER=0.003556, MSE(CV)=0.064841\n",
      "BEST PARAMETER=0.003089, MSE(CV)=0.064811\n",
      "BEST PARAMETER=0.002683, MSE(CV)=0.064784\n",
      "BEST PARAMETER=0.002330, MSE(CV)=0.064763\n",
      "BEST PARAMETER=0.002024, MSE(CV)=0.064746\n",
      "BEST PARAMETER=0.001758, MSE(CV)=0.064732\n",
      "BEST PARAMETER=0.001526, MSE(CV)=0.064720\n",
      "BEST PARAMETER=0.001326, MSE(CV)=0.064711\n",
      "BEST PARAMETER=0.001151, MSE(CV)=0.064703\n",
      "BEST PARAMETER=0.001000, MSE(CV)=0.064697\n"
     ]
    }
   ],
   "source": [
    "def MSE(y,yhat): return np.mean(np.power(y-yhat,2))\n",
    "Xm = Xtrain.as_matrix()\n",
    "ym = ytrain.as_matrix()\n",
    "from sklearn.model_selection import KFold\n",
    "kf = KFold(n_splits=10)\n",
    "best_cv_mse = float(\"inf\")\n",
    "model = model = Lasso(fit_intercept=True)\n",
    "alphas_ = np.logspace(0,-3,base=10)\n",
    "for a in alphas_:\n",
    "    model.set_params(alpha=a)\n",
    "    mse_list_k10 = [MSE(model.fit(Xm[train], ym[train]).predict(Xm[val]), ym[val]) \\\n",
    "        for train, val in kf.split(Xm)]\n",
    "    if np.mean(mse_list_k10) < best_cv_mse:\n",
    "        best_cv_mse = np.mean(mse_list_k10)\n",
    "        best_alpha = a\n",
    "        print (\"BEST PARAMETER=%f, MSE(CV)=%f\"%(best_alpha,best_cv_mse))"
   ]
  },
  {
   "cell_type": "markdown",
   "metadata": {},
   "source": [
    "### Pregunta 4"
   ]
  },
  {
   "cell_type": "code",
   "execution_count": 16,
   "metadata": {
    "collapsed": true
   },
   "outputs": [],
   "source": [
    "df_A = df_scaled.sample(1000,random_state=11)\n",
    "\n",
    "frames = []\n",
    "valor = df_scaled.price\n",
    "length = 0.3\n",
    "for z in np.arange(int(np.min(valor)),int(np.max(valor))+1,length):\n",
    "    #un maximo de 100 datos por intervalo\n",
    "    aux = df_scaled[(df_scaled.price >= z) & (df_scaled.price < z+length)].head(100)\n",
    "    frames.append(aux)\n",
    "df_B = pd.concat(frames).sample(1000,random_state=11) #crea el dataframe"
   ]
  },
  {
   "cell_type": "markdown",
   "metadata": {},
   "source": [
    "#### 4.a)"
   ]
  },
  {
   "cell_type": "code",
   "execution_count": 17,
   "metadata": {
    "collapsed": true
   },
   "outputs": [],
   "source": [
    "X_A = df_A.iloc[:,1:].values\n",
    "y_A = df_A.price\n",
    "X_B = df_B.iloc[:,1:].values\n",
    "y_B = df_B.price\n",
    "from sklearn.model_selection import train_test_split\n",
    "Xtrain_A,Xval_A,ytrain_A,yval_A = train_test_split(X_A, y_A, test_size=0.3, random_state=42)\n",
    "Xtrain_B,Xval_B,ytrain_B,yval_B = train_test_split(X_B, y_B, test_size=0.3, random_state=42)"
   ]
  },
  {
   "cell_type": "markdown",
   "metadata": {},
   "source": [
    "#### 4.b)"
   ]
  },
  {
   "cell_type": "code",
   "execution_count": 18,
   "metadata": {
    "collapsed": false
   },
   "outputs": [
    {
     "name": "stdout",
     "output_type": "stream",
     "text": [
      "Error del modelo A con validación de A: 0.0712808717813\n",
      "Error del modelo B con validación de B: 0.118938373093\n",
      "Error del modelo A con validación de B: 0.151424942814\n",
      "Error del modelo B con validación de A: 0.0828490228399\n"
     ]
    }
   ],
   "source": [
    "#SE CREAN Y ENTRENENAN LOS MODELOS\n",
    "modA = lm.LinearRegression(fit_intercept = True)\n",
    "modB = lm.LinearRegression(fit_intercept = True)\n",
    "\n",
    "modA.fit(Xtrain_A,ytrain_A)\n",
    "modB.fit(Xtrain_B,ytrain_B)\n",
    "\n",
    "#CADA MODELO PREDICE SU CONJUNTO DE VALIDACION\n",
    "valpredA_A = modA.predict(Xval_A)\n",
    "valpredB_B = modB.predict(Xval_B)\n",
    "\n",
    "#CADA MODELO PREDICE EL OTRO CONJUNTO DE VALIDACION\n",
    "valpredA_B = modA.predict(Xval_B)\n",
    "valpredB_A = modB.predict(Xval_A)\n",
    "\n",
    "#DIFERENCIAS DE LAS PREDICCIONES CON EL VALOR REAL\n",
    "deltaA_A = valpredA_A - yval_A\n",
    "deltaB_B = valpredB_B - yval_B\n",
    "\n",
    "deltaA_B = valpredA_B - yval_B\n",
    "deltaB_A = valpredB_A - yval_A\n",
    "\n",
    "#SE CALCULA LA SUMA DE LAS DIFERENCIAS AL CUADRADO\n",
    "errorA_A = deltaA_A.dot(deltaA_A) /len(deltaA_A)\n",
    "errorB_B = deltaB_B.dot(deltaB_B) /len(deltaB_B)\n",
    "\n",
    "\n",
    "errorA_B = deltaA_B.dot(deltaA_B) /len(deltaA_B)\n",
    "errorB_A = deltaB_A.dot(deltaB_A) /len(deltaB_A)\n",
    "\n",
    "#SE IMPRIMEN\n",
    "print(\"Error del modelo A con validación de A:\",errorA_A)\n",
    "print(\"Error del modelo B con validación de B:\",errorB_B)\n",
    "\n",
    "print(\"Error del modelo A con validación de B:\",errorA_B)\n",
    "print(\"Error del modelo B con validación de A:\",errorB_A)"
   ]
  },
  {
   "cell_type": "markdown",
   "metadata": {},
   "source": [
    "Se logra apreciar que el error para la muestra A con su mismo conjunto de validación es el menor de todos los errores presentes dado que su distribución es más normal. Luego, ambos modelos (A como B) presentan un error más alto al utilizar el conjunto de validación B, siendo el del modelo B menor entre estos. Lo anterior se debe a que se están probado datos de validación con una distribución más cercana a la cual se entrenó el modelo. Por último, el modelo B con validación A presenta un error bajo en comparación a los validados con B, pero es mayor que al validar con A dado que los datos presentan una distribución más uniforme.\n"
   ]
  },
  {
   "cell_type": "markdown",
   "metadata": {},
   "source": [
    "#### 4.c)"
   ]
  },
  {
   "cell_type": "markdown",
   "metadata": {
    "collapsed": true
   },
   "source": [
    "Eligiriamos el modelo A, dado que los datos se encuentran mejor distribuidos para el análisis que se le realiza (y dado también que presentan un error menor como vimos en la pregunta 4.b). Esta distribución disminuye el sesgo existente, lo que termina ajustando el mejor médida el modelo.\n",
    "Relacionandolo con Transfer learning, el modelo mas util seria el B, ya que se logro adaptar tanto a su conjunto de validacion como al del A obteninedo errores realtivamente pequeños, por lo que es mejor para ocuparlo en otros casos.\n",
    "En conclusion, el modelo A sirve especificamente para este caso mientras que el modelo B se comporta de mejor forma en general"
   ]
  },
  {
   "cell_type": "markdown",
   "metadata": {},
   "source": [
    "### Pregunta 5"
   ]
  },
  {
   "cell_type": "markdown",
   "metadata": {},
   "source": [
    "#### 5.a)"
   ]
  },
  {
   "cell_type": "code",
   "execution_count": 19,
   "metadata": {
    "collapsed": false
   },
   "outputs": [
    {
     "name": "stderr",
     "output_type": "stream",
     "text": [
      "/home/nicomero/anaconda3/lib/python3.6/site-packages/ipykernel/__main__.py:24: FutureWarning: sort(columns=....) is deprecated, use sort_values(by=.....)\n"
     ]
    },
    {
     "name": "stdout",
     "output_type": "stream",
     "text": [
      "      age  sex  chest_pain  blood_p  serum  blood_s  electro  max_heart  angina  oldpeak  slope  vessel  thal  normal\n",
      "214  29.0  1.0         2.0    130.0  204.0      0.0      2.0      202.0     0.0      0.0    1.0     0.0   3.0       1\n",
      "144  54.0  1.0         2.0    192.0  283.0      0.0      2.0      195.0     0.0      0.0    1.0     1.0   7.0       2\n",
      "180  42.0  1.0         3.0    120.0  240.0      1.0      0.0      194.0     0.0      0.8    3.0     0.0   7.0       1\n",
      "138  34.0  0.0         2.0    118.0  210.0      0.0      0.0      192.0     0.0      0.7    1.0     0.0   3.0       1\n",
      "251  44.0  1.0         2.0    130.0  219.0      0.0      2.0      188.0     0.0      0.0    1.0     0.0   3.0       1\n",
      "209  37.0  1.0         3.0    130.0  250.0      0.0      0.0      187.0     0.0      3.5    3.0     0.0   3.0       1\n",
      "39   48.0  1.0         4.0    122.0  222.0      0.0      2.0      186.0     0.0      0.0    1.0     0.0   3.0       1\n",
      "66   51.0  1.0         4.0    140.0  261.0      0.0      2.0      186.0     1.0      0.0    1.0     0.0   3.0       1\n",
      "232  45.0  1.0         4.0    115.0  260.0      0.0      2.0      185.0     0.0      0.0    1.0     0.0   3.0       1\n",
      "224  35.0  0.0         4.0    138.0  183.0      0.0      0.0      182.0     0.0      1.4    1.0     0.0   3.0       1\n",
      "141  59.0  1.0         4.0    138.0  271.0      0.0      2.0      182.0     0.0      0.0    1.0     0.0   3.0       1\n",
      "160  38.0  1.0         1.0    120.0  231.0      0.0      0.0      182.0     1.0      3.8    2.0     0.0   7.0       2\n",
      "40   40.0  1.0         4.0    152.0  223.0      0.0      0.0      181.0     0.0      0.0    1.0     0.0   7.0       2\n",
      "12   44.0  1.0         3.0    140.0  235.0      0.0      2.0      180.0     0.0      0.0    1.0     0.0   3.0       1\n",
      "21   48.0  1.0         2.0    130.0  245.0      0.0      2.0      180.0     0.0      0.2    2.0     0.0   3.0       1\n",
      "42   44.0  1.0         3.0    130.0  233.0      0.0      0.0      179.0     1.0      0.4    1.0     0.0   3.0       1\n",
      "53   63.0  0.0         2.0    140.0  195.0      0.0      0.0      179.0     0.0      0.0    1.0     2.0   3.0       1\n",
      "150  41.0  1.0         3.0    112.0  250.0      0.0      0.0      179.0     0.0      0.0    1.0     0.0   3.0       1\n",
      "205  52.0  1.0         1.0    152.0  298.0      1.0      0.0      178.0     0.0      1.2    2.0     0.0   7.0       1\n",
      "132  42.0  1.0         4.0    140.0  226.0      0.0      0.0      178.0     0.0      0.0    1.0     0.0   3.0       1\n",
      "47   44.0  1.0         4.0    110.0  197.0      0.0      2.0      177.0     0.0      0.0    1.0     1.0   3.0       2\n",
      "54   45.0  0.0         2.0    130.0  234.0      0.0      2.0      175.0     0.0      0.6    2.0     0.0   3.0       1\n",
      "194  48.0  1.0         3.0    124.0  255.0      1.0      0.0      175.0     0.0      0.0    1.0     2.0   3.0       1\n",
      "100  44.0  0.0         3.0    108.0  141.0      0.0      0.0      175.0     0.0      0.6    2.0     0.0   3.0       1\n",
      "174  34.0  1.0         1.0    118.0  182.0      0.0      2.0      174.0     0.0      0.0    1.0     0.0   3.0       1\n",
      "169  65.0  1.0         1.0    138.0  282.0      1.0      2.0      174.0     0.0      1.4    2.0     1.0   3.0       2\n",
      "266  44.0  1.0         2.0    120.0  263.0      0.0      0.0      173.0     0.0      0.0    1.0     0.0   7.0       1\n",
      "148  58.0  1.0         3.0    132.0  224.0      0.0      2.0      173.0     0.0      3.2    1.0     2.0   7.0       2\n",
      "203  51.0  1.0         4.0    140.0  299.0      0.0      0.0      173.0     1.0      1.6    1.0     0.0   7.0       2\n",
      "155  46.0  0.0         2.0    105.0  204.0      0.0      0.0      172.0     0.0      0.0    1.0     0.0   3.0       1\n",
      "239  52.0  1.0         2.0    120.0  325.0      0.0      0.0      172.0     0.0      0.2    1.0     0.0   3.0       1\n",
      "216  63.0  0.0         3.0    135.0  252.0      0.0      2.0      172.0     0.0      0.0    1.0     0.0   3.0       1\n",
      "149  41.0  0.0         3.0    112.0  268.0      0.0      2.0      172.0     1.0      0.0    1.0     0.0   3.0       1\n",
      "260  58.0  0.0         3.0    120.0  340.0      0.0      0.0      172.0     0.0      0.0    1.0     0.0   3.0       1\n",
      "263  49.0  1.0         2.0    130.0  266.0      0.0      0.0      171.0     0.0      0.6    1.0     0.0   3.0       1\n",
      "63   60.0  0.0         1.0    150.0  240.0      0.0      0.0      171.0     0.0      0.9    1.0     0.0   3.0       1\n",
      "259  43.0  1.0         4.0    150.0  247.0      0.0      0.0      171.0     0.0      1.5    1.0     0.0   3.0       1\n",
      "201  58.0  1.0         4.0    125.0  300.0      0.0      2.0      171.0     0.0      0.0    1.0     2.0   7.0       2\n",
      "219  44.0  1.0         2.0    120.0  220.0      0.0      0.0      170.0     0.0      0.0    1.0     0.0   3.0       1\n",
      "8    60.0  1.0         4.0    140.0  293.0      0.0      2.0      170.0     0.0      1.2    2.0     2.0   7.0       2\n",
      "32   37.0  0.0         3.0    120.0  215.0      0.0      0.0      170.0     0.0      0.0    1.0     0.0   3.0       1\n",
      "113  54.0  0.0         3.0    135.0  304.0      1.0      0.0      170.0     0.0      0.0    1.0     0.0   3.0       1\n",
      "130  63.0  0.0         4.0    108.0  269.0      0.0      0.0      169.0     1.0      1.8    2.0     2.0   3.0       2\n",
      "127  52.0  0.0         3.0    136.0  196.0      0.0      2.0      169.0     0.0      0.1    2.0     0.0   3.0       1\n",
      "62   44.0  1.0         3.0    120.0  226.0      0.0      0.0      169.0     0.0      0.0    1.0     0.0   3.0       1\n",
      "91   61.0  0.0         4.0    130.0  330.0      0.0      2.0      169.0     0.0      0.0    1.0     0.0   3.0       2\n",
      "55   41.0  0.0         2.0    105.0  198.0      0.0      0.0      168.0     0.0      0.0    1.0     1.0   3.0       1\n",
      "83   41.0  1.0         3.0    130.0  214.0      0.0      2.0      168.0     0.0      2.0    2.0     0.0   3.0       1\n",
      "211  51.0  1.0         3.0    125.0  245.0      1.0      2.0      166.0     0.0      2.4    2.0     0.0   3.0       1\n",
      "105  48.0  1.0         4.0    124.0  274.0      0.0      2.0      166.0     0.0      0.5    2.0     0.0   7.0       2\n",
      "212  43.0  0.0         3.0    122.0  213.0      0.0      0.0      165.0     0.0      0.2    2.0     0.0   3.0       1\n",
      "45   58.0  1.0         3.0    140.0  211.0      1.0      2.0      165.0     0.0      0.0    1.0     0.0   3.0       1\n",
      "159  66.0  0.0         4.0    178.0  228.0      1.0      0.0      165.0     1.0      1.0    2.0     2.0   7.0       2\n",
      "28   58.0  1.0         3.0    112.0  230.0      0.0      2.0      165.0     0.0      2.5    2.0     1.0   7.0       2\n",
      "90   59.0  1.0         2.0    140.0  221.0      0.0      0.0      164.0     1.0      0.0    1.0     0.0   3.0       1\n",
      "41   62.0  0.0         4.0    124.0  209.0      0.0      0.0      163.0     0.0      0.0    1.0     0.0   3.0       1\n",
      "179  50.0  1.0         3.0    129.0  196.0      0.0      0.0      163.0     0.0      0.0    1.0     0.0   3.0       1\n",
      "71   57.0  0.0         4.0    120.0  354.0      0.0      0.0      163.0     1.0      0.6    1.0     0.0   3.0       1\n",
      "88   41.0  0.0         2.0    126.0  306.0      0.0      0.0      163.0     0.0      0.0    1.0     0.0   3.0       1\n",
      "178  67.0  1.0         4.0    125.0  254.0      1.0      0.0      163.0     0.0      0.2    2.0     2.0   7.0       2\n",
      "199  77.0  1.0         4.0    125.0  304.0      0.0      2.0      162.0     1.0      0.0    1.0     3.0   3.0       2\n",
      "228  58.0  0.0         1.0    150.0  283.0      1.0      2.0      162.0     0.0      1.0    1.0     0.0   3.0       1\n",
      "114  42.0  1.0         2.0    120.0  295.0      0.0      0.0      162.0     0.0      0.0    1.0     0.0   3.0       1\n",
      "255  71.0  0.0         2.0    160.0  302.0      0.0      0.0      162.0     0.0      0.4    1.0     2.0   3.0       1\n",
      "115  49.0  0.0         2.0    134.0  271.0      0.0      0.0      162.0     0.0      0.0    2.0     0.0   3.0       1\n",
      "108  59.0  1.0         4.0    140.0  177.0      0.0      0.0      162.0     1.0      0.0    1.0     1.0   7.0       2\n",
      "265  52.0  1.0         3.0    172.0  199.0      1.0      0.0      162.0     0.0      0.5    1.0     0.0   7.0       1\n",
      "99   50.0  0.0         2.0    120.0  244.0      0.0      0.0      162.0     0.0      1.1    1.0     0.0   3.0       1\n",
      "10   59.0  1.0         4.0    135.0  234.0      0.0      0.0      161.0     0.0      0.5    2.0     0.0   7.0       1\n",
      "164  43.0  1.0         4.0    110.0  211.0      0.0      0.0      161.0     0.0      0.0    1.0     0.0   7.0       1\n",
      "112  60.0  0.0         4.0    158.0  305.0      0.0      2.0      161.0     0.0      0.0    1.0     0.0   3.0       2\n",
      "195  55.0  0.0         2.0    135.0  250.0      0.0      2.0      161.0     0.0      1.4    2.0     0.0   3.0       1\n",
      "243  62.0  0.0         4.0    140.0  268.0      0.0      2.0      160.0     0.0      3.6    3.0     2.0   3.0       2\n",
      "146  52.0  1.0         4.0    112.0  230.0      0.0      0.0      160.0     0.0      0.0    1.0     1.0   3.0       2\n",
      "206  60.0  0.0         3.0    102.0  318.0      0.0      0.0      160.0     0.0      0.0    1.0     1.0   3.0       1\n",
      "236  53.0  0.0         4.0    138.0  234.0      0.0      2.0      160.0     0.0      0.0    1.0     0.0   3.0       1\n",
      "262  58.0  1.0         2.0    120.0  284.0      0.0      2.0      160.0     0.0      1.8    2.0     0.0   3.0       2\n",
      "129  60.0  1.0         4.0    117.0  230.0      1.0      0.0      160.0     1.0      1.4    1.0     2.0   7.0       2\n",
      "190  54.0  1.0         4.0    140.0  239.0      0.0      0.0      160.0     0.0      1.2    1.0     0.0   3.0       1\n",
      "166  50.0  0.0         4.0    110.0  254.0      0.0      2.0      159.0     0.0      0.0    1.0     0.0   3.0       1\n",
      "14   57.0  0.0         4.0    128.0  303.0      0.0      2.0      159.0     0.0      0.0    1.0     1.0   3.0       1\n",
      "24   54.0  0.0         2.0    132.0  288.0      1.0      2.0      159.0     1.0      0.0    1.0     1.0   3.0       1\n",
      "258  64.0  1.0         3.0    140.0  335.0      0.0      0.0      158.0     0.0      0.0    1.0     0.0   3.0       2\n",
      "128  52.0  1.0         2.0    134.0  201.0      0.0      0.0      158.0     0.0      0.8    1.0     1.0   3.0       1\n",
      "246  65.0  1.0         4.0    110.0  248.0      0.0      2.0      158.0     0.0      0.6    1.0     2.0   6.0       2\n",
      "151  50.0  0.0         3.0    120.0  219.0      0.0      0.0      158.0     0.0      1.6    2.0     0.0   3.0       1\n",
      "254  59.0  1.0         3.0    150.0  212.0      1.0      0.0      157.0     0.0      1.6    1.0     0.0   3.0       1\n",
      "52   65.0  0.0         3.0    140.0  417.0      1.0      2.0      157.0     0.0      0.8    1.0     1.0   3.0       1\n",
      "107  60.0  0.0         4.0    150.0  258.0      0.0      2.0      157.0     0.0      2.6    2.0     2.0   7.0       2\n",
      "27   51.0  0.0         3.0    120.0  295.0      0.0      2.0      157.0     0.0      0.6    1.0     0.0   3.0       1\n",
      "192  54.0  1.0         2.0    108.0  309.0      0.0      0.0      156.0     0.0      0.0    1.0     0.0   7.0       1\n",
      "193  35.0  1.0         4.0    126.0  282.0      0.0      2.0      156.0     1.0      0.0    1.0     0.0   7.0       2\n",
      "97   58.0  1.0         4.0    100.0  234.0      0.0      0.0      156.0     0.0      0.1    1.0     1.0   7.0       2\n",
      "43   46.0  1.0         2.0    101.0  197.0      1.0      0.0      156.0     0.0      0.0    1.0     0.0   7.0       1\n",
      "248  60.0  1.0         3.0    140.0  185.0      0.0      2.0      155.0     0.0      3.0    2.0     0.0   3.0       2\n",
      "161  62.0  0.0         4.0    150.0  244.0      0.0      0.0      154.0     1.0      1.4    2.0     0.0   3.0       2\n",
      "217  51.0  1.0         3.0     94.0  227.0      0.0      0.0      154.0     1.0      0.0    1.0     1.0   7.0       1\n",
      "9    63.0  0.0         4.0    150.0  407.0      0.0      2.0      154.0     0.0      4.0    2.0     3.0   7.0       2\n",
      "207  58.0  1.0         3.0    105.0  240.0      0.0      2.0      154.0     1.0      0.6    2.0     0.0   7.0       1\n",
      "252  44.0  1.0         4.0    112.0  290.0      0.0      2.0      153.0     0.0      0.0    1.0     1.0   3.0       2\n",
      "69   47.0  1.0         3.0    108.0  243.0      0.0      0.0      152.0     0.0      0.0    1.0     0.0   3.0       2\n",
      "124  54.0  1.0         3.0    125.0  273.0      0.0      2.0      152.0     0.0      0.5    3.0     1.0   3.0       1\n",
      "168  45.0  0.0         4.0    138.0  236.0      0.0      2.0      152.0     1.0      0.2    2.0     0.0   3.0       1\n",
      "26   46.0  0.0         4.0    138.0  243.0      0.0      2.0      152.0     1.0      0.0    2.0     0.0   3.0       1\n",
      "167  53.0  1.0         3.0    130.0  197.0      1.0      2.0      152.0     0.0      1.2    3.0     0.0   3.0       1\n",
      "200  68.0  1.0         3.0    118.0  277.0      0.0      0.0      151.0     0.0      1.0    1.0     1.0   7.0       1\n",
      "198  69.0  0.0         1.0    140.0  239.0      0.0      0.0      151.0     0.0      1.8    1.0     2.0   3.0       1\n",
      "123  65.0  0.0         3.0    160.0  360.0      0.0      2.0      151.0     0.0      0.8    1.0     0.0   3.0       1\n",
      "181  56.0  0.0         4.0    134.0  409.0      0.0      2.0      150.0     1.0      1.9    2.0     2.0   7.0       2\n",
      "240  68.0  1.0         3.0    180.0  274.0      1.0      2.0      150.0     1.0      1.6    2.0     0.0   7.0       2\n",
      "30   57.0  1.0         3.0    128.0  229.0      0.0      2.0      150.0     0.0      0.4    2.0     1.0   7.0       2\n",
      "154  51.0  0.0         3.0    130.0  256.0      0.0      2.0      149.0     0.0      0.5    1.0     0.0   3.0       1\n",
      "68   44.0  0.0         3.0    118.0  242.0      0.0      0.0      149.0     0.0      0.3    2.0     1.0   3.0       1\n",
      "247  65.0  0.0         3.0    155.0  269.0      0.0      0.0      148.0     0.0      0.8    1.0     0.0   3.0       1\n",
      "268  57.0  1.0         4.0    140.0  192.0      0.0      0.0      148.0     0.0      0.4    2.0     0.0   6.0       1\n",
      "76   45.0  1.0         4.0    104.0  208.0      0.0      2.0      148.0     1.0      3.0    2.0     0.0   3.0       1\n",
      "187  52.0  1.0         4.0    108.0  233.0      1.0      0.0      147.0     0.0      0.1    1.0     3.0   7.0       1\n",
      "75   45.0  1.0         4.0    142.0  309.0      0.0      2.0      147.0     1.0      0.0    2.0     3.0   7.0       2\n",
      "104  63.0  1.0         4.0    130.0  254.0      0.0      2.0      147.0     0.0      1.4    2.0     1.0   7.0       2\n",
      "230  61.0  0.0         4.0    145.0  307.0      0.0      2.0      146.0     1.0      1.0    2.0     0.0   7.0       2\n",
      "87   59.0  1.0         1.0    178.0  270.0      0.0      2.0      145.0     0.0      4.2    3.0     0.0   7.0       1\n",
      "13   61.0  1.0         1.0    134.0  234.0      0.0      0.0      145.0     0.0      2.6    2.0     2.0   3.0       2\n",
      "204  55.0  1.0         4.0    160.0  289.0      0.0      2.0      145.0     1.0      0.8    2.0     1.0   7.0       2\n",
      "137  56.0  1.0         4.0    125.0  249.0      1.0      2.0      144.0     1.0      1.2    2.0     1.0   3.0       2\n",
      "116  46.0  1.0         4.0    120.0  249.0      0.0      2.0      144.0     0.0      0.8    1.0     0.0   7.0       2\n",
      "18   64.0  1.0         1.0    110.0  211.0      0.0      2.0      144.0     1.0      1.8    2.0     0.0   3.0       1\n",
      "58   59.0  0.0         4.0    174.0  249.0      0.0      0.0      143.0     1.0      0.0    2.0     0.0   3.0       2\n",
      "242  53.0  0.0         4.0    130.0  264.0      0.0      2.0      143.0     0.0      0.4    2.0     0.0   3.0       1\n",
      "106  51.0  1.0         3.0    100.0  222.0      0.0      0.0      143.0     1.0      1.2    2.0     0.0   3.0       1\n",
      "23   47.0  1.0         4.0    112.0  204.0      0.0      0.0      143.0     0.0      0.1    1.0     0.0   3.0       1\n",
      "61   51.0  0.0         4.0    130.0  305.0      0.0      0.0      142.0     1.0      1.2    2.0     0.0   7.0       2\n",
      "7    59.0  1.0         4.0    110.0  239.0      0.0      2.0      142.0     1.0      1.2    2.0     1.0   7.0       2\n",
      "6    56.0  1.0         3.0    130.0  256.0      1.0      2.0      142.0     1.0      0.6    2.0     1.0   6.0       2\n",
      "249  60.0  1.0         4.0    145.0  282.0      0.0      2.0      142.0     1.0      2.8    2.0     2.0   7.0       2\n",
      "244  51.0  0.0         3.0    140.0  308.0      0.0      2.0      142.0     0.0      1.5    1.0     1.0   3.0       1\n",
      "74   67.0  0.0         4.0    106.0  223.0      0.0      0.0      142.0     0.0      0.3    1.0     2.0   3.0       1\n",
      "2    57.0  1.0         2.0    124.0  261.0      0.0      0.0      141.0     0.0      0.3    1.0     0.0   7.0       2\n",
      "202  60.0  1.0         4.0    125.0  258.0      0.0      2.0      141.0     1.0      2.8    2.0     1.0   7.0       2\n",
      "33   59.0  1.0         4.0    170.0  326.0      0.0      2.0      140.0     1.0      3.4    3.0     0.0   7.0       2\n",
      "231  39.0  1.0         4.0    118.0  219.0      0.0      0.0      140.0     0.0      1.2    2.0     0.0   7.0       2\n",
      "70   61.0  1.0         4.0    120.0  260.0      0.0      0.0      140.0     1.0      3.6    2.0     1.0   7.0       2\n",
      "25   48.0  0.0         3.0    130.0  275.0      0.0      0.0      139.0     0.0      0.2    1.0     0.0   3.0       1\n",
      "109  45.0  0.0         2.0    112.0  160.0      0.0      0.0      138.0     0.0      0.0    2.0     0.0   3.0       1\n",
      "117  56.0  0.0         4.0    200.0  288.0      1.0      2.0      133.0     1.0      4.0    3.0     2.0   7.0       2\n",
      "140  64.0  1.0         4.0    145.0  212.0      0.0      2.0      132.0     0.0      2.0    2.0     2.0   6.0       2\n",
      "225  41.0  1.0         2.0    135.0  203.0      0.0      0.0      132.0     0.0      0.0    2.0     0.0   6.0       1\n",
      "131  66.0  1.0         4.0    112.0  212.0      0.0      2.0      132.0     1.0      0.1    1.0     1.0   3.0       2\n",
      "223  63.0  1.0         4.0    130.0  330.0      1.0      2.0      132.0     1.0      1.8    1.0     3.0   7.0       2\n",
      "261  60.0  1.0         4.0    130.0  206.0      0.0      2.0      132.0     1.0      2.4    2.0     2.0   7.0       2\n",
      "170  69.0  1.0         1.0    160.0  234.0      1.0      2.0      131.0     0.0      0.1    2.0     1.0   3.0       1\n",
      "213  58.0  1.0         4.0    128.0  216.0      0.0      2.0      131.0     1.0      2.2    2.0     3.0   7.0       2\n",
      "81   35.0  1.0         4.0    120.0  198.0      0.0      0.0      130.0     1.0      1.6    2.0     0.0   7.0       2\n",
      "29   71.0  0.0         3.0    110.0  265.0      1.0      2.0      130.0     0.0      0.0    1.0     1.0   3.0       1\n",
      "20   67.0  1.0         4.0    120.0  229.0      0.0      2.0      129.0     1.0      2.6    2.0     2.0   7.0       2\n",
      "220  54.0  1.0         4.0    110.0  239.0      0.0      0.0      126.0     1.0      2.8    2.0     1.0   7.0       2\n",
      "172  67.0  1.0         4.0    100.0  299.0      0.0      2.0      125.0     1.0      0.9    2.0     2.0   3.0       2\n",
      "56   61.0  1.0         4.0    138.0  166.0      0.0      2.0      125.0     1.0      3.6    2.0     1.0   3.0       2\n",
      "143  51.0  1.0         1.0    125.0  213.0      0.0      2.0      125.0     1.0      1.4    1.0     1.0   3.0       1\n",
      "191  70.0  1.0         4.0    145.0  174.0      0.0      0.0      125.0     1.0      2.6    3.0     0.0   7.0       2\n",
      "103  57.0  1.0         4.0    165.0  289.0      1.0      2.0      124.0     0.0      1.0    2.0     3.0   7.0       2\n",
      "153  64.0  0.0         4.0    130.0  303.0      0.0      0.0      122.0     0.0      2.0    2.0     2.0   3.0       1\n",
      "183  42.0  0.0         4.0    102.0  265.0      0.0      2.0      122.0     0.0      0.6    2.0     0.0   3.0       1\n",
      "196  58.0  0.0         4.0    100.0  248.0      0.0      2.0      122.0     0.0      1.0    2.0     0.0   3.0       1\n",
      "237  43.0  1.0         4.0    120.0  177.0      0.0      2.0      120.0     1.0      2.5    2.0     0.0   7.0       2\n",
      "48   66.0  1.0         2.0    160.0  246.0      0.0      0.0      120.0     1.0      0.0    2.0     3.0   6.0       2\n",
      "16   46.0  1.0         4.0    140.0  311.0      0.0      0.0      120.0     1.0      1.8    2.0     2.0   7.0       2\n",
      "110  55.0  0.0         4.0    180.0  327.0      0.0      1.0      117.0     1.0      3.4    2.0     0.0   3.0       2\n",
      "73   76.0  0.0         3.0    140.0  197.0      0.0      1.0      116.0     0.0      1.1    2.0     0.0   3.0       1\n",
      "121  54.0  1.0         4.0    122.0  286.0      0.0      2.0      116.0     1.0      3.2    2.0     2.0   3.0       2\n",
      "147  40.0  1.0         4.0    110.0  167.0      0.0      2.0      114.0     1.0      2.0    2.0     0.0   7.0       2\n",
      "49   65.0  0.0         4.0    150.0  225.0      0.0      2.0      114.0     0.0      1.0    2.0     3.0   7.0       2\n",
      "118  66.0  0.0         1.0    150.0  226.0      0.0      0.0      114.0     0.0      2.6    3.0     0.0   3.0       1\n",
      "250  54.0  1.0         4.0    120.0  188.0      0.0      0.0      113.0     0.0      1.4    2.0     1.0   7.0       2\n",
      "65   57.0  1.0         4.0    150.0  276.0      0.0      2.0      112.0     1.0      0.6    2.0     1.0   6.0       2\n",
      "156  55.0  1.0         4.0    140.0  217.0      0.0      0.0      111.0     1.0      5.6    3.0     0.0   7.0       2\n",
      "82   58.0  1.0         4.0    150.0  270.0      0.0      2.0      111.0     1.0      0.8    1.0     0.0   7.0       2\n",
      "92   54.0  1.0         4.0    124.0  266.0      0.0      2.0      109.0     1.0      2.2    2.0     1.0   7.0       2\n",
      "93   54.0  1.0         4.0    110.0  206.0      0.0      2.0      108.0     1.0      0.0    2.0     1.0   3.0       2\n",
      "269  67.0  1.0         4.0    160.0  286.0      0.0      2.0      108.0     1.0      1.5    2.0     3.0   3.0       2\n",
      "175  62.0  0.0         4.0    138.0  294.0      1.0      0.0      106.0     0.0      1.9    2.0     3.0   3.0       2\n",
      "186  56.0  1.0         4.0    132.0  184.0      0.0      2.0      105.0     1.0      2.1    2.0     1.0   6.0       2\n",
      "80   58.0  1.0         4.0    146.0  218.0      0.0      0.0      105.0     0.0      2.0    2.0     1.0   7.0       2\n",
      "119  56.0  1.0         4.0    130.0  283.0      1.0      2.0      103.0     1.0      1.6    3.0     0.0   7.0       2\n",
      "59   62.0  1.0         2.0    120.0  281.0      0.0      2.0      103.0     0.0      1.4    2.0     1.0   7.0       2\n",
      "126  62.0  1.0         4.0    120.0  267.0      0.0      0.0       99.0     1.0      1.8    2.0     2.0   7.0       2\n",
      "226  62.0  0.0         3.0    130.0  263.0      0.0      0.0       97.0     0.0      1.2    2.0     1.0   7.0       2\n",
      "57   60.0  0.0         3.0    120.0  178.0      1.0      0.0       96.0     0.0      0.0    1.0     0.0   3.0       1\n",
      "122  57.0  1.0         4.0    152.0  274.0      0.0      0.0       88.0     1.0      1.2    2.0     1.0   7.0       2\n",
      "101  67.0  1.0         4.0    120.0  237.0      0.0      0.0       71.0     0.0      1.0    2.0     0.0   3.0       2\n"
     ]
    },
    {
     "data": {
      "image/png": "[encoded data removed]",
      "text/plain": [
       "<matplotlib.figure.Figure at 0x7fb46b119438>"
      ]
     },
     "metadata": {},
     "output_type": "display_data"
    }
   ],
   "source": [
    "import pandas as pd\n",
    "headers = ['age','sex','chest_pain','blood_p','serum','blood_s','electro','max_heart', \\\n",
    "'angina','oldpeak','slope','vessel','thal','normal']\n",
    "dataset = 'heart.dat'\n",
    "\n",
    "\n",
    "\n",
    "df = pd.read_csv(dataset, header=None, names=headers, sep=' ')\n",
    "\n",
    "pd.options.mode.chained_assignment = None \n",
    "\n",
    "\n",
    "#creacion de los conjuntos entrenamiento y validacion\n",
    "from sklearn.model_selection import train_test_split\n",
    "Xtrain5, Xtest5 = train_test_split(df, test_size=0.3)\n",
    "\n",
    "#resultados verdaderos para la enfermedad\n",
    "Ntrain5 = Xtrain5.normal\n",
    "Ntest5 = Xtest5.normal\n",
    "\n",
    "#resultados verdaderos para la frecuencia\n",
    "Htrain5 = Xtrain5.max_heart\n",
    "Htest5 = Xtest5.max_heart\n",
    "\n",
    "print(Xtrain5.sort('max_heart',ascending=False).to_string())\n",
    "Xtrain5.plot.scatter(x='max_heart', y='normal')\n",
    "\n",
    "\n",
    "\n",
    "\n",
    "#se remueven las columnas que se quieren estimar\n",
    "Xtrain5.drop(['max_heart','normal'],axis=1,inplace=True)\n",
    "Xtest5.drop(['max_heart','normal'],axis=1,inplace=True)\n"
   ]
  },
  {
   "cell_type": "markdown",
   "metadata": {},
   "source": [
    "#### 5.b)"
   ]
  },
  {
   "cell_type": "code",
   "execution_count": 20,
   "metadata": {
    "collapsed": false
   },
   "outputs": [
    {
     "name": "stdout",
     "output_type": "stream",
     "text": [
      "Score sobre el entrenamiento\n",
      "0.767195767196\n",
      "Score sobre el test\n",
      "0.666666666667\n"
     ]
    }
   ],
   "source": [
    "model = lm.LinearRegression(fit_intercept = True, normalize = True)\n",
    "model.fit(Xtrain5, Htrain5)\n",
    "\n",
    "#arriba de 155.0 NO tiene enfermedad cardiaca\n",
    "\n",
    "#se predicen los resultados\n",
    "HtrainPredicho = model.predict(Xtrain5)\n",
    "HtestPredicho = model.predict(Xtest5)\n",
    "\n",
    "#se predice si tiene enfermedad cardiaca\n",
    "NtrainPredicho = []\n",
    "NtestPredicho = []\n",
    "\n",
    "for i in HtrainPredicho:    \n",
    "    if i < 150:\n",
    "        NtrainPredicho.append(2)\n",
    "    else:\n",
    "        NtrainPredicho.append(1)\n",
    "\n",
    "for i in HtestPredicho:\n",
    "    if i < 150:\n",
    "        NtestPredicho.append(2)\n",
    "    else:\n",
    "        NtestPredicho.append(1)\n",
    "\n",
    "\n",
    "\n",
    "from sklearn.metrics import accuracy_score\n",
    "#print \"Score: \"%(accuracy_score(y_outlier,y_predict_outlier)\n",
    "\n",
    "#accuracy_score(y_true, y_pred)\n",
    "print(\"Score sobre el entrenamiento\")\n",
    "print(accuracy_score(Ntrain5, NtrainPredicho))\n",
    "print(\"Score sobre el test\")\n",
    "print(accuracy_score(Ntest5, NtestPredicho))"
   ]
  },
  {
   "cell_type": "code",
   "execution_count": null,
   "metadata": {
    "collapsed": true
   },
   "outputs": [],
   "source": []
  }
 ],
 "metadata": {
  "celltoolbar": "Raw Cell Format",
  "kernelspec": {
   "display_name": "Python 3",
   "language": "python",
   "name": "python3"
  },
  "language_info": {
   "codemirror_mode": {
    "name": "ipython",
    "version": 3
   },
   "file_extension": ".py",
   "mimetype": "text/x-python",
   "name": "python",
   "nbconvert_exporter": "python",
   "pygments_lexer": "ipython3",
   "version": "3.6.0"
  }
 },
 "nbformat": 4,
 "nbformat_minor": 2
}
